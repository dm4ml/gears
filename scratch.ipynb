{
 "cells": [
  {
   "cell_type": "code",
   "execution_count": 1,
   "metadata": {},
   "outputs": [],
   "source": [
    "%load_ext autoreload\n",
    "%autoreload 2"
   ]
  },
  {
   "attachments": {},
   "cell_type": "markdown",
   "metadata": {},
   "source": [
    "## Open questions\n",
    "\n",
    "* How to show all the resulting contexts for all examples to the user?\n",
    "* How to show the intermediates to the user?\n",
    "* How to allow the user to compare two prompt versions?\n",
    "* How to allow the user to provide feedback on whether something is a good result or not?\n",
    "* How to manage the version blowup when automatically saving each .run() result as a version?\n",
    "\n",
    "Optimizations:\n",
    "* Stream intermediate outputs to the user as they are generated, allowing users to cancel early if they see an error\n",
    "* Track control flow to identify opportunities for reducing prompt lengths/costs"
   ]
  },
  {
   "cell_type": "code",
   "execution_count": 2,
   "metadata": {},
   "outputs": [],
   "source": [
    "%load_ext gears.extension \n",
    "%reload_ext gears.extension"
   ]
  },
  {
   "cell_type": "code",
   "execution_count": 3,
   "metadata": {},
   "outputs": [],
   "source": [
    "from gears import Example, Session, Gear, History\n",
    "from gears.llms import AzureOpenAIChat\n",
    "from gears.utils import extract_first_json\n",
    "from dotenv import load_dotenv\n",
    "import openai\n",
    "import os\n",
    "\n",
    "# Set Azure keys\n",
    "load_dotenv()\n",
    "openai.api_type = \"azure\"\n",
    "openai.api_base = os.getenv(\"OPENAI_API_BASE\")\n",
    "openai.api_key = os.getenv(\"OPENAI_AZURE_API_KEY\")\n",
    "openai.api_version = \"2023-07-01-preview\""
   ]
  },
  {
   "cell_type": "code",
   "execution_count": 4,
   "metadata": {},
   "outputs": [],
   "source": [
    "class Context(Example):\n",
    "    city: str"
   ]
  },
  {
   "cell_type": "code",
   "execution_count": 5,
   "metadata": {},
   "outputs": [],
   "source": [
    "session = Session()\n",
    "\n",
    "session.add_example(Context(city=\"Paris\"))"
   ]
  },
  {
   "cell_type": "code",
   "execution_count": 6,
   "metadata": {},
   "outputs": [
    {
     "data": {
      "text/plain": [
       "[Context(id='ec19cbd0-6457-4f21-89a1-f0beedc0d389', city='Paris')]"
      ]
     },
     "execution_count": 6,
     "metadata": {},
     "output_type": "execute_result"
    }
   ],
   "source": [
    "session.examples"
   ]
  },
  {
   "cell_type": "code",
   "execution_count": 7,
   "metadata": {},
   "outputs": [],
   "source": [
    "%%gear --root\n",
    "class Ideation(Gear):\n",
    "    def __init__(self):\n",
    "        super().__init__(AzureOpenAIChat(deployment_id=\"gpt-35-turbo\"))\n",
    "    \n",
    "    def prompt(self, context: Context):\n",
    "        return \"Suggest some types of interactions that one might encounter when visiting the city {{ context.city }} as a tourist. Return a JSON with key `interactions` and value equal to a list of strings.\"\n",
    "    \n",
    "    def transform(self, reply: dict, context: Context):\n",
    "        interactions = extract_first_json(reply[\"choices\"][0][\"message\"][\"content\"].strip())[\"interactions\"]\n",
    "        context.interactions = interactions\n",
    "        \n",
    "        return context\n",
    "    \n",
    "    def switch(self, context: Context):\n",
    "        return EnglishQuestion()"
   ]
  },
  {
   "cell_type": "code",
   "execution_count": 8,
   "metadata": {},
   "outputs": [],
   "source": [
    "%%gear\n",
    "class EnglishQuestion(Gear):\n",
    "    def __init__(self):\n",
    "        super().__init__(AzureOpenAIChat(deployment_id=\"gpt-35-turbo\"))\n",
    "        \n",
    "    def prompt(self, context: Context):\n",
    "        return \"For each interaction, write a question that a tourist might ask about the interaction. Return a JSON with key `questions` and value equal to a list of strings.\"\n",
    "    \n",
    "    def transform(self, reply: dict, context: Context):\n",
    "        questions = extract_first_json(reply[\"choices\"][0][\"message\"][\"content\"].strip())[\"questions\"]\n",
    "        context.questions = questions\n",
    "        \n",
    "        return context\n",
    "\n",
    "    def switch(self, context: Context):\n",
    "        return LanguageQuestion()"
   ]
  },
  {
   "cell_type": "code",
   "execution_count": 10,
   "metadata": {},
   "outputs": [],
   "source": [
    "%%gear\n",
    "class LanguageQuestion(Gear):\n",
    "    def __init__(self):\n",
    "        super().__init__(AzureOpenAIChat(deployment_id=\"gpt-35-turbo\"))\n",
    "    \n",
    "    def prompt(self, context: Context):\n",
    "        return \"Consider the most popular language in the city {{ context.city }}. Then translate each question into this language. If the most popular language of the city is English, then return the same English questions. Return a JSON with key `translations` and value equal to a list of strings.\"\n",
    "    \n",
    "    def transform(self, reply: dict, context: Context):\n",
    "        translated_questions = extract_first_json(reply[\"choices\"][0][\"message\"][\"content\"].strip())[\"translations\"]\n",
    "        context.translated_questions = translated_questions\n",
    "        \n",
    "        return context"
   ]
  },
  {
   "cell_type": "code",
   "execution_count": 11,
   "metadata": {},
   "outputs": [
    {
     "data": {
      "text/html": [
       "<pre style=\"white-space:pre;overflow-x:auto;line-height:normal;font-family:Menlo,'DejaVu Sans Mono',consolas,'Courier New',monospace\"><span style=\"color: #7fbfbf; text-decoration-color: #7fbfbf\">[19:17:21] </span><span style=\"color: #000080; text-decoration-color: #000080\">INFO    </span> Running LanguageQuestion on example <span style=\"color: #ffff00; text-decoration-color: #ffff00\">ec19cbd0-6457-4f21-89a1-f0beedc0d389</span>.        <a href=\"file:///Users/shreyashankar/Documents/projects/gears/gears/session.py\" target=\"_blank\"><span style=\"color: #7f7f7f; text-decoration-color: #7f7f7f\">session.py</span></a><span style=\"color: #7f7f7f; text-decoration-color: #7f7f7f\">:</span><a href=\"file:///Users/shreyashankar/Documents/projects/gears/gears/session.py#151\" target=\"_blank\"><span style=\"color: #7f7f7f; text-decoration-color: #7f7f7f\">151</span></a>\n",
       "</pre>\n"
      ],
      "text/plain": [
       "\u001b[2;36m[19:17:21]\u001b[0m\u001b[2;36m \u001b[0m\u001b[34mINFO    \u001b[0m Running LanguageQuestion on example \u001b[93mec19cbd0-6457-4f21-89a1-f0beedc0d389\u001b[0m.        \u001b]8;id=265175;file:///Users/shreyashankar/Documents/projects/gears/gears/session.py\u001b\\\u001b[2msession.py\u001b[0m\u001b]8;;\u001b\\\u001b[2m:\u001b[0m\u001b]8;id=684454;file:///Users/shreyashankar/Documents/projects/gears/gears/session.py#151\u001b\\\u001b[2m151\u001b[0m\u001b]8;;\u001b\\\n"
      ]
     },
     "metadata": {},
     "output_type": "display_data"
    },
    {
     "data": {
      "text/html": [
       "<pre style=\"white-space:pre;overflow-x:auto;line-height:normal;font-family:Menlo,'DejaVu Sans Mono',consolas,'Courier New',monospace\"><span style=\"color: #7fbfbf; text-decoration-color: #7fbfbf\">[19:17:23] </span><span style=\"color: #000080; text-decoration-color: #000080\">INFO    </span> <span style=\"color: #808000; text-decoration-color: #808000\">message</span>=<span style=\"color: #008000; text-decoration-color: #008000\">'OpenAI API response'</span>                                                        <a href=\"file:///Users/shreyashankar/miniforge3/envs/gearstest/lib/python3.9/site-packages/openai/util.py\" target=\"_blank\"><span style=\"color: #7f7f7f; text-decoration-color: #7f7f7f\">util.py</span></a><span style=\"color: #7f7f7f; text-decoration-color: #7f7f7f\">:</span><a href=\"file:///Users/shreyashankar/miniforge3/envs/gearstest/lib/python3.9/site-packages/openai/util.py#67\" target=\"_blank\"><span style=\"color: #7f7f7f; text-decoration-color: #7f7f7f\">67</span></a>\n",
       "<span style=\"color: #7fbfbf; text-decoration-color: #7fbfbf\">           </span>         <span style=\"color: #808000; text-decoration-color: #808000\">path</span>=<span style=\"color: #0000ff; text-decoration-color: #0000ff; text-decoration: underline\">https://shreyashankar.openai.azure.com//openai/deployments/gpt-35-turbo/chat/co</span> <span style=\"color: #7f7f7f; text-decoration-color: #7f7f7f\">          </span>\n",
       "<span style=\"color: #7fbfbf; text-decoration-color: #7fbfbf\">           </span>         <span style=\"color: #0000ff; text-decoration-color: #0000ff; text-decoration: underline\">mpletions?api-version=2023-07-01-preview</span> <span style=\"color: #808000; text-decoration-color: #808000\">processing_ms</span>=<span style=\"color: #008080; text-decoration-color: #008080; font-weight: bold\">1825.4483</span>                     <span style=\"color: #7f7f7f; text-decoration-color: #7f7f7f\">          </span>\n",
       "<span style=\"color: #7fbfbf; text-decoration-color: #7fbfbf\">           </span>         <span style=\"color: #808000; text-decoration-color: #808000\">request_id</span>=<span style=\"color: #ffff00; text-decoration-color: #ffff00\">fe86cb53</span><span style=\"color: #ffff00; text-decoration-color: #ffff00\">-e4c3-4df4-807b-f172899135d3</span> <span style=\"color: #808000; text-decoration-color: #808000\">response_code</span>=<span style=\"color: #008080; text-decoration-color: #008080; font-weight: bold\">200</span>                    <span style=\"color: #7f7f7f; text-decoration-color: #7f7f7f\">          </span>\n",
       "</pre>\n"
      ],
      "text/plain": [
       "\u001b[2;36m[19:17:23]\u001b[0m\u001b[2;36m \u001b[0m\u001b[34mINFO    \u001b[0m \u001b[33mmessage\u001b[0m=\u001b[32m'OpenAI API response'\u001b[0m                                                        \u001b]8;id=890003;file:///Users/shreyashankar/miniforge3/envs/gearstest/lib/python3.9/site-packages/openai/util.py\u001b\\\u001b[2mutil.py\u001b[0m\u001b]8;;\u001b\\\u001b[2m:\u001b[0m\u001b]8;id=115753;file:///Users/shreyashankar/miniforge3/envs/gearstest/lib/python3.9/site-packages/openai/util.py#67\u001b\\\u001b[2m67\u001b[0m\u001b]8;;\u001b\\\n",
       "\u001b[2;36m           \u001b[0m         \u001b[33mpath\u001b[0m=\u001b[4;94mhttps\u001b[0m\u001b[4;94m://shreyashankar.openai.azure.com//openai/deployments/gpt-35-turbo/chat/co\u001b[0m \u001b[2m          \u001b[0m\n",
       "\u001b[2;36m           \u001b[0m         \u001b[4;94mmpletions?api-\u001b[0m\u001b[4;94mversion\u001b[0m\u001b[4;94m=\u001b[0m\u001b[4;94m2023\u001b[0m\u001b[4;94m-07-01-preview\u001b[0m \u001b[33mprocessing_ms\u001b[0m=\u001b[1;36m1825\u001b[0m\u001b[1;36m.4483\u001b[0m                     \u001b[2m          \u001b[0m\n",
       "\u001b[2;36m           \u001b[0m         \u001b[33mrequest_id\u001b[0m=\u001b[93mfe86cb53\u001b[0m\u001b[93m-e4c3-4df4-807b-f172899135d3\u001b[0m \u001b[33mresponse_code\u001b[0m=\u001b[1;36m200\u001b[0m                    \u001b[2m          \u001b[0m\n"
      ]
     },
     "metadata": {},
     "output_type": "display_data"
    },
    {
     "data": {
      "text/html": [
       "<pre style=\"white-space:pre;overflow-x:auto;line-height:normal;font-family:Menlo,'DejaVu Sans Mono',consolas,'Courier New',monospace\"><span style=\"color: #7fbfbf; text-decoration-color: #7fbfbf\">           </span><span style=\"color: #000080; text-decoration-color: #000080\">INFO    </span> This run cost $<span style=\"color: #008080; text-decoration-color: #008080; font-weight: bold\">0.0002</span>. The total cost of the session so far is $<span style=\"color: #008080; text-decoration-color: #008080; font-weight: bold\">0.0011</span>.          <a href=\"file:///Users/shreyashankar/Documents/projects/gears/gears/session.py\" target=\"_blank\"><span style=\"color: #7f7f7f; text-decoration-color: #7f7f7f\">session.py</span></a><span style=\"color: #7f7f7f; text-decoration-color: #7f7f7f\">:</span><a href=\"file:///Users/shreyashankar/Documents/projects/gears/gears/session.py#224\" target=\"_blank\"><span style=\"color: #7f7f7f; text-decoration-color: #7f7f7f\">224</span></a>\n",
       "</pre>\n"
      ],
      "text/plain": [
       "\u001b[2;36m          \u001b[0m\u001b[2;36m \u001b[0m\u001b[34mINFO    \u001b[0m This run cost $\u001b[1;36m0.0002\u001b[0m. The total cost of the session so far is $\u001b[1;36m0.0011\u001b[0m.          \u001b]8;id=396968;file:///Users/shreyashankar/Documents/projects/gears/gears/session.py\u001b\\\u001b[2msession.py\u001b[0m\u001b]8;;\u001b\\\u001b[2m:\u001b[0m\u001b]8;id=562673;file:///Users/shreyashankar/Documents/projects/gears/gears/session.py#224\u001b\\\u001b[2m224\u001b[0m\u001b]8;;\u001b\\\n"
      ]
     },
     "metadata": {},
     "output_type": "display_data"
    },
    {
     "data": {
      "text/html": [
       "<pre style=\"white-space:pre;overflow-x:auto;line-height:normal;font-family:Menlo,'DejaVu Sans Mono',consolas,'Courier New',monospace\"><span style=\"color: #7fbfbf; text-decoration-color: #7fbfbf\">           </span><span style=\"color: #000080; text-decoration-color: #000080\">INFO    </span> Saving workflow <span style=\"color: #008080; text-decoration-color: #008080; font-weight: bold\">1</span> to session.                                                    <a href=\"file:///Users/shreyashankar/Documents/projects/gears/gears/session.py\" target=\"_blank\"><span style=\"color: #7f7f7f; text-decoration-color: #7f7f7f\">session.py</span></a><span style=\"color: #7f7f7f; text-decoration-color: #7f7f7f\">:</span><a href=\"file:///Users/shreyashankar/Documents/projects/gears/gears/session.py#245\" target=\"_blank\"><span style=\"color: #7f7f7f; text-decoration-color: #7f7f7f\">245</span></a>\n",
       "</pre>\n"
      ],
      "text/plain": [
       "\u001b[2;36m          \u001b[0m\u001b[2;36m \u001b[0m\u001b[34mINFO    \u001b[0m Saving workflow \u001b[1;36m1\u001b[0m to session.                                                    \u001b]8;id=523562;file:///Users/shreyashankar/Documents/projects/gears/gears/session.py\u001b\\\u001b[2msession.py\u001b[0m\u001b]8;;\u001b\\\u001b[2m:\u001b[0m\u001b]8;id=485888;file:///Users/shreyashankar/Documents/projects/gears/gears/session.py#245\u001b\\\u001b[2m245\u001b[0m\u001b]8;;\u001b\\\n"
      ]
     },
     "metadata": {},
     "output_type": "display_data"
    },
    {
     "data": {
      "text/plain": [
       "[Context(id='ec19cbd0-6457-4f21-89a1-f0beedc0d389', city='Paris', interactions=['Exploring cultural and historical landmarks', 'Trying local cuisine at restaurants and cafes', 'Shopping at local markets and boutiques', 'Attending music and art festivals', 'Visiting museums and art galleries', 'Taking guided tours of the city', 'Engaging in outdoor activities such as hiking or biking', 'Attending sporting events', 'Meeting local residents and learning about their customs and traditions'], questions=['What are some cultural and historical landmarks that I should visit in {{ context.city }}?', 'What are some local dishes that I have to try while in {{ context.city }}?', 'Are there any interesting markets or boutiques to explore in {{ context.city }}?', 'What music and art festivals are taking place during my visit to {{ context.city }}?', 'What museums and art galleries should I visit in {{ context.city }}?', 'What kind of guided tours are available in {{ context.city }}?', 'What outdoor activities can I engage in while in {{ context.city }}?', 'Are there any major sporting events happening during my visit to {{ context.city }}?', 'How can I learn more about the customs and traditions of local residents in {{ context.city }}?'], translated_questions=['What is your name?', 'How old are you?', 'Where are you from?', 'What do you do?', 'What is your favorite food?'])]"
      ]
     },
     "execution_count": 11,
     "metadata": {},
     "output_type": "execute_result"
    }
   ],
   "source": [
    "# Run session\n",
    "\n",
    "await session.run(version=True)"
   ]
  },
  {
   "cell_type": "code",
   "execution_count": 12,
   "metadata": {},
   "outputs": [
    {
     "data": {
      "text/html": [
       "<pre style=\"white-space:pre;overflow-x:auto;line-height:normal;font-family:Menlo,'DejaVu Sans Mono',consolas,'Courier New',monospace\"><span style=\"color: #7fbfbf; text-decoration-color: #7fbfbf\">[19:17:32] </span><span style=\"color: #000080; text-decoration-color: #000080\">INFO    </span> No new gears ran. The total cost of the session so far is $<span style=\"color: #008080; text-decoration-color: #008080; font-weight: bold\">0.0011</span>.               <a href=\"file:///Users/shreyashankar/Documents/projects/gears/gears/session.py\" target=\"_blank\"><span style=\"color: #7f7f7f; text-decoration-color: #7f7f7f\">session.py</span></a><span style=\"color: #7f7f7f; text-decoration-color: #7f7f7f\">:</span><a href=\"file:///Users/shreyashankar/Documents/projects/gears/gears/session.py#228\" target=\"_blank\"><span style=\"color: #7f7f7f; text-decoration-color: #7f7f7f\">228</span></a>\n",
       "</pre>\n"
      ],
      "text/plain": [
       "\u001b[2;36m[19:17:32]\u001b[0m\u001b[2;36m \u001b[0m\u001b[34mINFO    \u001b[0m No new gears ran. The total cost of the session so far is $\u001b[1;36m0.0011\u001b[0m.               \u001b]8;id=394315;file:///Users/shreyashankar/Documents/projects/gears/gears/session.py\u001b\\\u001b[2msession.py\u001b[0m\u001b]8;;\u001b\\\u001b[2m:\u001b[0m\u001b]8;id=322867;file:///Users/shreyashankar/Documents/projects/gears/gears/session.py#228\u001b\\\u001b[2m228\u001b[0m\u001b]8;;\u001b\\\n"
      ]
     },
     "metadata": {},
     "output_type": "display_data"
    },
    {
     "data": {
      "text/plain": [
       "[Context(id='ec19cbd0-6457-4f21-89a1-f0beedc0d389', city='Paris', interactions=['Exploring cultural and historical landmarks', 'Trying local cuisine at restaurants and cafes', 'Shopping at local markets and boutiques', 'Attending music and art festivals', 'Visiting museums and art galleries', 'Taking guided tours of the city', 'Engaging in outdoor activities such as hiking or biking', 'Attending sporting events', 'Meeting local residents and learning about their customs and traditions'], questions=['What are some cultural and historical landmarks that I should visit in {{ context.city }}?', 'What are some local dishes that I have to try while in {{ context.city }}?', 'Are there any interesting markets or boutiques to explore in {{ context.city }}?', 'What music and art festivals are taking place during my visit to {{ context.city }}?', 'What museums and art galleries should I visit in {{ context.city }}?', 'What kind of guided tours are available in {{ context.city }}?', 'What outdoor activities can I engage in while in {{ context.city }}?', 'Are there any major sporting events happening during my visit to {{ context.city }}?', 'How can I learn more about the customs and traditions of local residents in {{ context.city }}?'], translated_questions=['What is your name?', 'How old are you?', 'Where are you from?', 'What do you do?', 'What is your favorite food?'])]"
      ]
     },
     "execution_count": 12,
     "metadata": {},
     "output_type": "execute_result"
    }
   ],
   "source": [
    "# Run session again (should not ping OpenAI API)\n",
    "\n",
    "await session.run()"
   ]
  },
  {
   "cell_type": "code",
   "execution_count": 13,
   "metadata": {},
   "outputs": [],
   "source": [
    "# Add an example\n",
    "\n",
    "session.add_example(Context(city=\"London\"))"
   ]
  },
  {
   "cell_type": "code",
   "execution_count": 14,
   "metadata": {},
   "outputs": [
    {
     "data": {
      "text/html": [
       "<pre style=\"white-space:pre;overflow-x:auto;line-height:normal;font-family:Menlo,'DejaVu Sans Mono',consolas,'Courier New',monospace\"><span style=\"color: #7fbfbf; text-decoration-color: #7fbfbf\">[19:17:36] </span><span style=\"color: #000080; text-decoration-color: #000080\">INFO    </span> Running Ideation on example <span style=\"color: #ffff00; text-decoration-color: #ffff00\">ec19cbd0-6457-4f21-89a1-f0beedc0d389</span>.                <a href=\"file:///Users/shreyashankar/Documents/projects/gears/gears/session.py\" target=\"_blank\"><span style=\"color: #7f7f7f; text-decoration-color: #7f7f7f\">session.py</span></a><span style=\"color: #7f7f7f; text-decoration-color: #7f7f7f\">:</span><a href=\"file:///Users/shreyashankar/Documents/projects/gears/gears/session.py#151\" target=\"_blank\"><span style=\"color: #7f7f7f; text-decoration-color: #7f7f7f\">151</span></a>\n",
       "</pre>\n"
      ],
      "text/plain": [
       "\u001b[2;36m[19:17:36]\u001b[0m\u001b[2;36m \u001b[0m\u001b[34mINFO    \u001b[0m Running Ideation on example \u001b[93mec19cbd0-6457-4f21-89a1-f0beedc0d389\u001b[0m.                \u001b]8;id=501509;file:///Users/shreyashankar/Documents/projects/gears/gears/session.py\u001b\\\u001b[2msession.py\u001b[0m\u001b]8;;\u001b\\\u001b[2m:\u001b[0m\u001b]8;id=329306;file:///Users/shreyashankar/Documents/projects/gears/gears/session.py#151\u001b\\\u001b[2m151\u001b[0m\u001b]8;;\u001b\\\n"
      ]
     },
     "metadata": {},
     "output_type": "display_data"
    },
    {
     "data": {
      "text/html": [
       "<pre style=\"white-space:pre;overflow-x:auto;line-height:normal;font-family:Menlo,'DejaVu Sans Mono',consolas,'Courier New',monospace\"><span style=\"color: #7fbfbf; text-decoration-color: #7fbfbf\">[19:17:39] </span><span style=\"color: #000080; text-decoration-color: #000080\">INFO    </span> <span style=\"color: #808000; text-decoration-color: #808000\">message</span>=<span style=\"color: #008000; text-decoration-color: #008000\">'OpenAI API response'</span>                                                        <a href=\"file:///Users/shreyashankar/miniforge3/envs/gearstest/lib/python3.9/site-packages/openai/util.py\" target=\"_blank\"><span style=\"color: #7f7f7f; text-decoration-color: #7f7f7f\">util.py</span></a><span style=\"color: #7f7f7f; text-decoration-color: #7f7f7f\">:</span><a href=\"file:///Users/shreyashankar/miniforge3/envs/gearstest/lib/python3.9/site-packages/openai/util.py#67\" target=\"_blank\"><span style=\"color: #7f7f7f; text-decoration-color: #7f7f7f\">67</span></a>\n",
       "<span style=\"color: #7fbfbf; text-decoration-color: #7fbfbf\">           </span>         <span style=\"color: #808000; text-decoration-color: #808000\">path</span>=<span style=\"color: #0000ff; text-decoration-color: #0000ff; text-decoration: underline\">https://shreyashankar.openai.azure.com//openai/deployments/gpt-35-turbo/chat/co</span> <span style=\"color: #7f7f7f; text-decoration-color: #7f7f7f\">          </span>\n",
       "<span style=\"color: #7fbfbf; text-decoration-color: #7fbfbf\">           </span>         <span style=\"color: #0000ff; text-decoration-color: #0000ff; text-decoration: underline\">mpletions?api-version=2023-07-01-preview</span> <span style=\"color: #808000; text-decoration-color: #808000\">processing_ms</span>=<span style=\"color: #008080; text-decoration-color: #008080; font-weight: bold\">2298.8082</span>                     <span style=\"color: #7f7f7f; text-decoration-color: #7f7f7f\">          </span>\n",
       "<span style=\"color: #7fbfbf; text-decoration-color: #7fbfbf\">           </span>         <span style=\"color: #808000; text-decoration-color: #808000\">request_id</span>=<span style=\"color: #ffff00; text-decoration-color: #ffff00\">bc4d3649</span><span style=\"color: #ffff00; text-decoration-color: #ffff00\">-1388-4c59-a7f4-5f79c5f57f0a</span> <span style=\"color: #808000; text-decoration-color: #808000\">response_code</span>=<span style=\"color: #008080; text-decoration-color: #008080; font-weight: bold\">200</span>                    <span style=\"color: #7f7f7f; text-decoration-color: #7f7f7f\">          </span>\n",
       "</pre>\n"
      ],
      "text/plain": [
       "\u001b[2;36m[19:17:39]\u001b[0m\u001b[2;36m \u001b[0m\u001b[34mINFO    \u001b[0m \u001b[33mmessage\u001b[0m=\u001b[32m'OpenAI API response'\u001b[0m                                                        \u001b]8;id=296534;file:///Users/shreyashankar/miniforge3/envs/gearstest/lib/python3.9/site-packages/openai/util.py\u001b\\\u001b[2mutil.py\u001b[0m\u001b]8;;\u001b\\\u001b[2m:\u001b[0m\u001b]8;id=719619;file:///Users/shreyashankar/miniforge3/envs/gearstest/lib/python3.9/site-packages/openai/util.py#67\u001b\\\u001b[2m67\u001b[0m\u001b]8;;\u001b\\\n",
       "\u001b[2;36m           \u001b[0m         \u001b[33mpath\u001b[0m=\u001b[4;94mhttps\u001b[0m\u001b[4;94m://shreyashankar.openai.azure.com//openai/deployments/gpt-35-turbo/chat/co\u001b[0m \u001b[2m          \u001b[0m\n",
       "\u001b[2;36m           \u001b[0m         \u001b[4;94mmpletions?api-\u001b[0m\u001b[4;94mversion\u001b[0m\u001b[4;94m=\u001b[0m\u001b[4;94m2023\u001b[0m\u001b[4;94m-07-01-preview\u001b[0m \u001b[33mprocessing_ms\u001b[0m=\u001b[1;36m2298\u001b[0m\u001b[1;36m.8082\u001b[0m                     \u001b[2m          \u001b[0m\n",
       "\u001b[2;36m           \u001b[0m         \u001b[33mrequest_id\u001b[0m=\u001b[93mbc4d3649\u001b[0m\u001b[93m-1388-4c59-a7f4-5f79c5f57f0a\u001b[0m \u001b[33mresponse_code\u001b[0m=\u001b[1;36m200\u001b[0m                    \u001b[2m          \u001b[0m\n"
      ]
     },
     "metadata": {},
     "output_type": "display_data"
    },
    {
     "data": {
      "text/html": [
       "<pre style=\"white-space:pre;overflow-x:auto;line-height:normal;font-family:Menlo,'DejaVu Sans Mono',consolas,'Courier New',monospace\"><span style=\"color: #7fbfbf; text-decoration-color: #7fbfbf\">           </span><span style=\"color: #000080; text-decoration-color: #000080\">INFO    </span> Running EnglishQuestion on example <span style=\"color: #ffff00; text-decoration-color: #ffff00\">ec19cbd0-6457-4f21-89a1-f0beedc0d389</span>.         <a href=\"file:///Users/shreyashankar/Documents/projects/gears/gears/session.py\" target=\"_blank\"><span style=\"color: #7f7f7f; text-decoration-color: #7f7f7f\">session.py</span></a><span style=\"color: #7f7f7f; text-decoration-color: #7f7f7f\">:</span><a href=\"file:///Users/shreyashankar/Documents/projects/gears/gears/session.py#151\" target=\"_blank\"><span style=\"color: #7f7f7f; text-decoration-color: #7f7f7f\">151</span></a>\n",
       "</pre>\n"
      ],
      "text/plain": [
       "\u001b[2;36m          \u001b[0m\u001b[2;36m \u001b[0m\u001b[34mINFO    \u001b[0m Running EnglishQuestion on example \u001b[93mec19cbd0-6457-4f21-89a1-f0beedc0d389\u001b[0m.         \u001b]8;id=457682;file:///Users/shreyashankar/Documents/projects/gears/gears/session.py\u001b\\\u001b[2msession.py\u001b[0m\u001b]8;;\u001b\\\u001b[2m:\u001b[0m\u001b]8;id=276411;file:///Users/shreyashankar/Documents/projects/gears/gears/session.py#151\u001b\\\u001b[2m151\u001b[0m\u001b]8;;\u001b\\\n"
      ]
     },
     "metadata": {},
     "output_type": "display_data"
    },
    {
     "data": {
      "text/html": [
       "<pre style=\"white-space:pre;overflow-x:auto;line-height:normal;font-family:Menlo,'DejaVu Sans Mono',consolas,'Courier New',monospace\"><span style=\"color: #7fbfbf; text-decoration-color: #7fbfbf\">[19:17:45] </span><span style=\"color: #000080; text-decoration-color: #000080\">INFO    </span> <span style=\"color: #808000; text-decoration-color: #808000\">message</span>=<span style=\"color: #008000; text-decoration-color: #008000\">'OpenAI API response'</span>                                                        <a href=\"file:///Users/shreyashankar/miniforge3/envs/gearstest/lib/python3.9/site-packages/openai/util.py\" target=\"_blank\"><span style=\"color: #7f7f7f; text-decoration-color: #7f7f7f\">util.py</span></a><span style=\"color: #7f7f7f; text-decoration-color: #7f7f7f\">:</span><a href=\"file:///Users/shreyashankar/miniforge3/envs/gearstest/lib/python3.9/site-packages/openai/util.py#67\" target=\"_blank\"><span style=\"color: #7f7f7f; text-decoration-color: #7f7f7f\">67</span></a>\n",
       "<span style=\"color: #7fbfbf; text-decoration-color: #7fbfbf\">           </span>         <span style=\"color: #808000; text-decoration-color: #808000\">path</span>=<span style=\"color: #0000ff; text-decoration-color: #0000ff; text-decoration: underline\">https://shreyashankar.openai.azure.com//openai/deployments/gpt-35-turbo/chat/co</span> <span style=\"color: #7f7f7f; text-decoration-color: #7f7f7f\">          </span>\n",
       "<span style=\"color: #7fbfbf; text-decoration-color: #7fbfbf\">           </span>         <span style=\"color: #0000ff; text-decoration-color: #0000ff; text-decoration: underline\">mpletions?api-version=2023-07-01-preview</span> <span style=\"color: #808000; text-decoration-color: #808000\">processing_ms</span>=<span style=\"color: #008080; text-decoration-color: #008080; font-weight: bold\">5333.0429</span>                     <span style=\"color: #7f7f7f; text-decoration-color: #7f7f7f\">          </span>\n",
       "<span style=\"color: #7fbfbf; text-decoration-color: #7fbfbf\">           </span>         <span style=\"color: #808000; text-decoration-color: #808000\">request_id</span>=<span style=\"color: #ffff00; text-decoration-color: #ffff00\">3cf251c0</span><span style=\"color: #ffff00; text-decoration-color: #ffff00\">-2599-4738-9259-0e3627a86a41</span> <span style=\"color: #808000; text-decoration-color: #808000\">response_code</span>=<span style=\"color: #008080; text-decoration-color: #008080; font-weight: bold\">200</span>                    <span style=\"color: #7f7f7f; text-decoration-color: #7f7f7f\">          </span>\n",
       "</pre>\n"
      ],
      "text/plain": [
       "\u001b[2;36m[19:17:45]\u001b[0m\u001b[2;36m \u001b[0m\u001b[34mINFO    \u001b[0m \u001b[33mmessage\u001b[0m=\u001b[32m'OpenAI API response'\u001b[0m                                                        \u001b]8;id=926952;file:///Users/shreyashankar/miniforge3/envs/gearstest/lib/python3.9/site-packages/openai/util.py\u001b\\\u001b[2mutil.py\u001b[0m\u001b]8;;\u001b\\\u001b[2m:\u001b[0m\u001b]8;id=472428;file:///Users/shreyashankar/miniforge3/envs/gearstest/lib/python3.9/site-packages/openai/util.py#67\u001b\\\u001b[2m67\u001b[0m\u001b]8;;\u001b\\\n",
       "\u001b[2;36m           \u001b[0m         \u001b[33mpath\u001b[0m=\u001b[4;94mhttps\u001b[0m\u001b[4;94m://shreyashankar.openai.azure.com//openai/deployments/gpt-35-turbo/chat/co\u001b[0m \u001b[2m          \u001b[0m\n",
       "\u001b[2;36m           \u001b[0m         \u001b[4;94mmpletions?api-\u001b[0m\u001b[4;94mversion\u001b[0m\u001b[4;94m=\u001b[0m\u001b[4;94m2023\u001b[0m\u001b[4;94m-07-01-preview\u001b[0m \u001b[33mprocessing_ms\u001b[0m=\u001b[1;36m5333\u001b[0m\u001b[1;36m.0429\u001b[0m                     \u001b[2m          \u001b[0m\n",
       "\u001b[2;36m           \u001b[0m         \u001b[33mrequest_id\u001b[0m=\u001b[93m3cf251c0\u001b[0m\u001b[93m-2599-4738-9259-0e3627a86a41\u001b[0m \u001b[33mresponse_code\u001b[0m=\u001b[1;36m200\u001b[0m                    \u001b[2m          \u001b[0m\n"
      ]
     },
     "metadata": {},
     "output_type": "display_data"
    },
    {
     "data": {
      "text/html": [
       "<pre style=\"white-space:pre;overflow-x:auto;line-height:normal;font-family:Menlo,'DejaVu Sans Mono',consolas,'Courier New',monospace\"><span style=\"color: #7fbfbf; text-decoration-color: #7fbfbf\">           </span><span style=\"color: #000080; text-decoration-color: #000080\">INFO    </span> Running LanguageQuestion on example <span style=\"color: #ffff00; text-decoration-color: #ffff00\">ec19cbd0-6457-4f21-89a1-f0beedc0d389</span>.        <a href=\"file:///Users/shreyashankar/Documents/projects/gears/gears/session.py\" target=\"_blank\"><span style=\"color: #7f7f7f; text-decoration-color: #7f7f7f\">session.py</span></a><span style=\"color: #7f7f7f; text-decoration-color: #7f7f7f\">:</span><a href=\"file:///Users/shreyashankar/Documents/projects/gears/gears/session.py#151\" target=\"_blank\"><span style=\"color: #7f7f7f; text-decoration-color: #7f7f7f\">151</span></a>\n",
       "</pre>\n"
      ],
      "text/plain": [
       "\u001b[2;36m          \u001b[0m\u001b[2;36m \u001b[0m\u001b[34mINFO    \u001b[0m Running LanguageQuestion on example \u001b[93mec19cbd0-6457-4f21-89a1-f0beedc0d389\u001b[0m.        \u001b]8;id=920661;file:///Users/shreyashankar/Documents/projects/gears/gears/session.py\u001b\\\u001b[2msession.py\u001b[0m\u001b]8;;\u001b\\\u001b[2m:\u001b[0m\u001b]8;id=401971;file:///Users/shreyashankar/Documents/projects/gears/gears/session.py#151\u001b\\\u001b[2m151\u001b[0m\u001b]8;;\u001b\\\n"
      ]
     },
     "metadata": {},
     "output_type": "display_data"
    },
    {
     "data": {
      "text/html": [
       "<pre style=\"white-space:pre;overflow-x:auto;line-height:normal;font-family:Menlo,'DejaVu Sans Mono',consolas,'Courier New',monospace\"><span style=\"color: #7fbfbf; text-decoration-color: #7fbfbf\">[19:17:48] </span><span style=\"color: #000080; text-decoration-color: #000080\">INFO    </span> <span style=\"color: #808000; text-decoration-color: #808000\">message</span>=<span style=\"color: #008000; text-decoration-color: #008000\">'OpenAI API response'</span>                                                        <a href=\"file:///Users/shreyashankar/miniforge3/envs/gearstest/lib/python3.9/site-packages/openai/util.py\" target=\"_blank\"><span style=\"color: #7f7f7f; text-decoration-color: #7f7f7f\">util.py</span></a><span style=\"color: #7f7f7f; text-decoration-color: #7f7f7f\">:</span><a href=\"file:///Users/shreyashankar/miniforge3/envs/gearstest/lib/python3.9/site-packages/openai/util.py#67\" target=\"_blank\"><span style=\"color: #7f7f7f; text-decoration-color: #7f7f7f\">67</span></a>\n",
       "<span style=\"color: #7fbfbf; text-decoration-color: #7fbfbf\">           </span>         <span style=\"color: #808000; text-decoration-color: #808000\">path</span>=<span style=\"color: #0000ff; text-decoration-color: #0000ff; text-decoration: underline\">https://shreyashankar.openai.azure.com//openai/deployments/gpt-35-turbo/chat/co</span> <span style=\"color: #7f7f7f; text-decoration-color: #7f7f7f\">          </span>\n",
       "<span style=\"color: #7fbfbf; text-decoration-color: #7fbfbf\">           </span>         <span style=\"color: #0000ff; text-decoration-color: #0000ff; text-decoration: underline\">mpletions?api-version=2023-07-01-preview</span> <span style=\"color: #808000; text-decoration-color: #808000\">processing_ms</span>=<span style=\"color: #008080; text-decoration-color: #008080; font-weight: bold\">2687.7653</span>                     <span style=\"color: #7f7f7f; text-decoration-color: #7f7f7f\">          </span>\n",
       "<span style=\"color: #7fbfbf; text-decoration-color: #7fbfbf\">           </span>         <span style=\"color: #808000; text-decoration-color: #808000\">request_id</span>=<span style=\"color: #ffff00; text-decoration-color: #ffff00\">264799d4</span><span style=\"color: #ffff00; text-decoration-color: #ffff00\">-5e4d-4519-82ec-1eb4dde20461</span> <span style=\"color: #808000; text-decoration-color: #808000\">response_code</span>=<span style=\"color: #008080; text-decoration-color: #008080; font-weight: bold\">200</span>                    <span style=\"color: #7f7f7f; text-decoration-color: #7f7f7f\">          </span>\n",
       "</pre>\n"
      ],
      "text/plain": [
       "\u001b[2;36m[19:17:48]\u001b[0m\u001b[2;36m \u001b[0m\u001b[34mINFO    \u001b[0m \u001b[33mmessage\u001b[0m=\u001b[32m'OpenAI API response'\u001b[0m                                                        \u001b]8;id=190683;file:///Users/shreyashankar/miniforge3/envs/gearstest/lib/python3.9/site-packages/openai/util.py\u001b\\\u001b[2mutil.py\u001b[0m\u001b]8;;\u001b\\\u001b[2m:\u001b[0m\u001b]8;id=750533;file:///Users/shreyashankar/miniforge3/envs/gearstest/lib/python3.9/site-packages/openai/util.py#67\u001b\\\u001b[2m67\u001b[0m\u001b]8;;\u001b\\\n",
       "\u001b[2;36m           \u001b[0m         \u001b[33mpath\u001b[0m=\u001b[4;94mhttps\u001b[0m\u001b[4;94m://shreyashankar.openai.azure.com//openai/deployments/gpt-35-turbo/chat/co\u001b[0m \u001b[2m          \u001b[0m\n",
       "\u001b[2;36m           \u001b[0m         \u001b[4;94mmpletions?api-\u001b[0m\u001b[4;94mversion\u001b[0m\u001b[4;94m=\u001b[0m\u001b[4;94m2023\u001b[0m\u001b[4;94m-07-01-preview\u001b[0m \u001b[33mprocessing_ms\u001b[0m=\u001b[1;36m2687\u001b[0m\u001b[1;36m.7653\u001b[0m                     \u001b[2m          \u001b[0m\n",
       "\u001b[2;36m           \u001b[0m         \u001b[33mrequest_id\u001b[0m=\u001b[93m264799d4\u001b[0m\u001b[93m-5e4d-4519-82ec-1eb4dde20461\u001b[0m \u001b[33mresponse_code\u001b[0m=\u001b[1;36m200\u001b[0m                    \u001b[2m          \u001b[0m\n"
      ]
     },
     "metadata": {},
     "output_type": "display_data"
    },
    {
     "ename": "RuntimeError",
     "evalue": "coroutine raised StopIteration",
     "output_type": "error",
     "traceback": [
      "\u001b[0;31m---------------------------------------------------------------------------\u001b[0m",
      "\u001b[0;31mStopIteration\u001b[0m                             Traceback (most recent call last)",
      "File \u001b[0;32m~/Documents/projects/gears/gears/utils.py:48\u001b[0m, in \u001b[0;36mextract_first_json\u001b[0;34m(text)\u001b[0m\n\u001b[1;32m     47\u001b[0m \u001b[39mtry\u001b[39;00m:\n\u001b[0;32m---> 48\u001b[0m     \u001b[39mreturn\u001b[39;00m \u001b[39mnext\u001b[39;49m(extract_json(text))\n\u001b[1;32m     49\u001b[0m \u001b[39mexcept\u001b[39;00m \u001b[39mStopIteration\u001b[39;00m:\n",
      "\u001b[0;31mStopIteration\u001b[0m: ",
      "\nDuring handling of the above exception, another exception occurred:\n",
      "\u001b[0;31mStopIteration\u001b[0m                             Traceback (most recent call last)",
      "File \u001b[0;32m~/Documents/projects/gears/gears/gear.py:123\u001b[0m, in \u001b[0;36mGear._runWithoutSwitch\u001b[0;34m(self, context, history, model_response, **kwargs)\u001b[0m\n\u001b[1;32m    122\u001b[0m \u001b[39mif\u001b[39;00m num_transform_tries \u001b[39m>\u001b[39m \u001b[39mself\u001b[39m\u001b[39m.\u001b[39mnum_retries_on_transform_error:\n\u001b[0;32m--> 123\u001b[0m     \u001b[39mraise\u001b[39;00m e\n\u001b[1;32m    124\u001b[0m \u001b[39melse\u001b[39;00m:\n",
      "File \u001b[0;32m~/Documents/projects/gears/gears/gear.py:107\u001b[0m, in \u001b[0;36mGear._runWithoutSwitch\u001b[0;34m(self, context, history, model_response, **kwargs)\u001b[0m\n\u001b[1;32m    106\u001b[0m \u001b[39mtry\u001b[39;00m:\n\u001b[0;32m--> 107\u001b[0m     transformed_context \u001b[39m=\u001b[39m \u001b[39mself\u001b[39;49m\u001b[39m.\u001b[39;49mtransform(\n\u001b[1;32m    108\u001b[0m         model_response, context_copy\n\u001b[1;32m    109\u001b[0m     )\n\u001b[1;32m    110\u001b[0m     \u001b[39mbreak\u001b[39;00m\n",
      "Cell \u001b[0;32mIn[10], line 9\u001b[0m, in \u001b[0;36mLanguageQuestion.transform\u001b[0;34m(self, reply, context)\u001b[0m\n\u001b[1;32m      8\u001b[0m \u001b[39mdef\u001b[39;00m \u001b[39mtransform\u001b[39m(\u001b[39mself\u001b[39m, reply: \u001b[39mdict\u001b[39m, context: Context):\n\u001b[0;32m----> 9\u001b[0m     translated_questions \u001b[39m=\u001b[39m extract_first_json(reply[\u001b[39m\"\u001b[39;49m\u001b[39mchoices\u001b[39;49m\u001b[39m\"\u001b[39;49m][\u001b[39m0\u001b[39;49m][\u001b[39m\"\u001b[39;49m\u001b[39mmessage\u001b[39;49m\u001b[39m\"\u001b[39;49m][\u001b[39m\"\u001b[39;49m\u001b[39mcontent\u001b[39;49m\u001b[39m\"\u001b[39;49m]\u001b[39m.\u001b[39;49mstrip())[\u001b[39m\"\u001b[39m\u001b[39mtranslations\u001b[39m\u001b[39m\"\u001b[39m]\n\u001b[1;32m     10\u001b[0m     context\u001b[39m.\u001b[39mtranslated_questions \u001b[39m=\u001b[39m translated_questions\n",
      "File \u001b[0;32m~/Documents/projects/gears/gears/utils.py:50\u001b[0m, in \u001b[0;36mextract_first_json\u001b[0;34m(text)\u001b[0m\n\u001b[1;32m     49\u001b[0m \u001b[39mexcept\u001b[39;00m \u001b[39mStopIteration\u001b[39;00m:\n\u001b[0;32m---> 50\u001b[0m     \u001b[39mraise\u001b[39;00m \u001b[39mStopIteration\u001b[39;00m(\u001b[39mf\u001b[39m\u001b[39m\"\u001b[39m\u001b[39mNo JSON found in text: \u001b[39m\u001b[39m{\u001b[39;00mtext\u001b[39m}\u001b[39;00m\u001b[39m\"\u001b[39m)\n",
      "\u001b[0;31mStopIteration\u001b[0m: No JSON found in text: As an AI language model, I am not capable of determining the most popular language spoken in a city. However, I can provide translations if you specify the desired language. Please let me know which language you would like the questions to be translated into.",
      "\nThe above exception was the direct cause of the following exception:\n",
      "\u001b[0;31mRuntimeError\u001b[0m                              Traceback (most recent call last)",
      "Cell \u001b[0;32mIn[14], line 3\u001b[0m\n\u001b[1;32m      1\u001b[0m \u001b[39m# Run session again (should ping OpenAI API only once, for the new example)\u001b[39;00m\n\u001b[0;32m----> 3\u001b[0m \u001b[39mawait\u001b[39;00m session\u001b[39m.\u001b[39mrun(version\u001b[39m=\u001b[39m\u001b[39mTrue\u001b[39;00m)\n",
      "File \u001b[0;32m~/Documents/projects/gears/gears/session.py:218\u001b[0m, in \u001b[0;36mSession.run\u001b[0;34m(self, version)\u001b[0m\n\u001b[1;32m    216\u001b[0m start_cost \u001b[39m=\u001b[39m \u001b[39mself\u001b[39m\u001b[39m.\u001b[39mcost\n\u001b[1;32m    217\u001b[0m \u001b[39m# Process examples in parallel using asyncio.gather\u001b[39;00m\n\u001b[0;32m--> 218\u001b[0m results \u001b[39m=\u001b[39m \u001b[39mawait\u001b[39;00m asyncio\u001b[39m.\u001b[39mgather(\n\u001b[1;32m    219\u001b[0m     \u001b[39m*\u001b[39m[\u001b[39mself\u001b[39m\u001b[39m.\u001b[39m_run_example(ex) \u001b[39mfor\u001b[39;00m ex \u001b[39min\u001b[39;00m \u001b[39mself\u001b[39m\u001b[39m.\u001b[39mexamples]\n\u001b[1;32m    220\u001b[0m )\n\u001b[1;32m    222\u001b[0m \u001b[39m# If cost changed, log it\u001b[39;00m\n\u001b[1;32m    223\u001b[0m \u001b[39mif\u001b[39;00m \u001b[39mself\u001b[39m\u001b[39m.\u001b[39mcost \u001b[39m!=\u001b[39m start_cost:\n",
      "File \u001b[0;32m~/Documents/projects/gears/gears/session.py:158\u001b[0m, in \u001b[0;36mSession._run_example\u001b[0;34m(self, example)\u001b[0m\n\u001b[1;32m    150\u001b[0m \u001b[39mif\u001b[39;00m key \u001b[39mnot\u001b[39;00m \u001b[39min\u001b[39;00m \u001b[39mself\u001b[39m\u001b[39m.\u001b[39m__intermediates:\n\u001b[1;32m    151\u001b[0m     \u001b[39mself\u001b[39m\u001b[39m.\u001b[39m_logger\u001b[39m.\u001b[39minfo(\n\u001b[1;32m    152\u001b[0m         \u001b[39mf\u001b[39m\u001b[39m\"\u001b[39m\u001b[39mRunning \u001b[39m\u001b[39m{\u001b[39;00mcurrent_gear\u001b[39m.\u001b[39m\u001b[39m__class__\u001b[39m\u001b[39m.\u001b[39m\u001b[39m__name__\u001b[39m\u001b[39m}\u001b[39;00m\u001b[39m on example \u001b[39m\u001b[39m{\u001b[39;00mcurrent_context\u001b[39m.\u001b[39mid\u001b[39m}\u001b[39;00m\u001b[39m.\u001b[39m\u001b[39m\"\u001b[39m\n\u001b[1;32m    153\u001b[0m     )\n\u001b[1;32m    154\u001b[0m     (\n\u001b[1;32m    155\u001b[0m         model_response,\n\u001b[1;32m    156\u001b[0m         result_context,\n\u001b[1;32m    157\u001b[0m         new_history,\n\u001b[0;32m--> 158\u001b[0m     ) \u001b[39m=\u001b[39m \u001b[39mawait\u001b[39;00m current_gear\u001b[39m.\u001b[39m_runWithoutSwitch(\n\u001b[1;32m    159\u001b[0m         current_context, current_history\n\u001b[1;32m    160\u001b[0m     )\n\u001b[1;32m    162\u001b[0m \u001b[39melse\u001b[39;00m:\n\u001b[1;32m    163\u001b[0m     \u001b[39m# Run only transform method\u001b[39;00m\n\u001b[1;32m    164\u001b[0m     model_response \u001b[39m=\u001b[39m \u001b[39mself\u001b[39m\u001b[39m.\u001b[39m__intermediates[key]\u001b[39m.\u001b[39mmodel_response\n",
      "\u001b[0;31mRuntimeError\u001b[0m: coroutine raised StopIteration"
     ]
    }
   ],
   "source": [
    "# Run session again (should ping OpenAI API only once, for the new example)\n",
    "\n",
    "await session.run(version=True)"
   ]
  },
  {
   "cell_type": "code",
   "execution_count": null,
   "metadata": {},
   "outputs": [
    {
     "data": {
      "text/plain": [
       "0.004371"
      ]
     },
     "execution_count": 16,
     "metadata": {},
     "output_type": "execute_result"
    }
   ],
   "source": [
    "session.cost"
   ]
  },
  {
   "cell_type": "code",
   "execution_count": 12,
   "metadata": {},
   "outputs": [
    {
     "data": {
      "text/plain": [
       "{'root': 'Ideation',\n",
       " 'code': {'Ideation': 'class Ideation(Gear):\\n    def __init__(self):\\n        super().__init__(AzureOpenAIChat(deployment_id=\"gpt-35-turbo\"))\\n    \\n    def template(self, context: Context):\\n        return \"Suggest some types of interactions that one might encounter when visiting the city {{ context.city }} as a tourist. Return a JSON with key `interactions` and value equal to a list of strings.\"\\n    \\n    def transform(self, reply: dict, context: Context):\\n        interactions = extract_first_json(reply[\"choices\"][0][\"message\"][\"content\"].strip())[\"interactions\"]\\n        context.interactions = interactions\\n        \\n        return context\\n    \\n    def switch(self, context: Context):\\n        return EnglishQuestion()\\n',\n",
       "  'EnglishQuestion': 'class EnglishQuestion(Gear):\\n    def __init__(self):\\n        super().__init__(AzureOpenAIChat(deployment_id=\"gpt-35-turbo\"))\\n    \\n    def template(self, context: Context):\\n        return \"For each interaction, write a question that a tourist might ask about the interaction. Return a JSON with key `questions` and value equal to a list of strings.\"\\n    \\n    def transform(self, reply: dict, context: Context):\\n        questions = extract_first_json(reply[\"choices\"][0][\"message\"][\"content\"].strip())[\"questions\"]\\n        context.questions = questions\\n        \\n        return context\\n\\n    def switch(self, context: Context):\\n        return LanguageQuestion()\\n',\n",
       "  'LanguageQuestion': 'class LanguageQuestion(Gear):\\n    def __init__(self):\\n        super().__init__(AzureOpenAIChat(deployment_id=\"gpt-35-turbo\"))\\n    \\n    def template(self, context: Context):\\n        return \"Consider the most popular language in the city {{ context.city }}. Then translate each question into this language. If the most popular language of the city is English, then return the same English questions. Return a JSON with key `translations` and value equal to a list of strings.\"\\n    \\n    def transform(self, reply: dict, context: Context):\\n        translated_questions = extract_first_json(reply[\"choices\"][0][\"message\"][\"content\"].strip())[\"translations\"]\\n        context.translated_questions = translated_questions\\n        \\n        return context\\n'},\n",
       " 'examples': [{'id': 'd3ee24cc-d899-433e-96f0-4663d8fee658', 'city': 'Paris'}],\n",
       " 'results': [{'id': 'd3ee24cc-d899-433e-96f0-4663d8fee658',\n",
       "   'city': 'Paris',\n",
       "   'interactions': ['Ordering food at a restaurant',\n",
       "    'Asking for directions',\n",
       "    'Shopping at a market or boutique',\n",
       "    'Visiting museums and art galleries',\n",
       "    'Taking a guided tour',\n",
       "    'Attending a cultural event or performance',\n",
       "    'Haggling at a flea market',\n",
       "    'Meeting locals and practicing language skills',\n",
       "    'Riding the metro or using public transportation',\n",
       "    'Exploring historic landmarks and architecture'],\n",
       "   'questions': ['What are some traditional French dishes that I should try?',\n",
       "    'How do I get to the Eiffel Tower?',\n",
       "    'What are some popular souvenirs to bring back from Paris?',\n",
       "    'What are the hours of operation for the Louvre?',\n",
       "    'Can you recommend a good tour company?',\n",
       "    'What festivals are happening during my visit?',\n",
       "    'How do I negotiate prices at a flea market?',\n",
       "    'Where can I meet locals and practice my French?',\n",
       "    'Is it safe to use public transportation at night?',\n",
       "    'What are some must-see landmarks in Paris?'],\n",
       "   'translated_questions': ['Quels plats traditionnels français devrais-je essayer?',\n",
       "    'Comment puis-je aller à la Tour Eiffel?',\n",
       "    'Quels sont les souvenirs populaires à rapporter de Paris?',\n",
       "    \"Quels sont les horaires d'ouverture du Louvre?\",\n",
       "    'Pouvez-vous recommander une bonne compagnie de visite?',\n",
       "    'Quels festivals ont lieu pendant mon séjour?',\n",
       "    'Comment négocier les prix sur un marché aux puces?',\n",
       "    'Où puis-je rencontrer des habitants pour pratiquer mon français?',\n",
       "    \"Est-il sûr d'utiliser les transports en commun la nuit?\",\n",
       "    'Quels sont les monuments incontournables à Paris?']}]}"
      ]
     },
     "execution_count": 12,
     "metadata": {},
     "output_type": "execute_result"
    }
   ],
   "source": [
    "session.versions[0]"
   ]
  },
  {
   "cell_type": "code",
   "execution_count": 13,
   "metadata": {},
   "outputs": [],
   "source": [
    "session.add_example(Context(city=\"Berlin\"))"
   ]
  },
  {
   "cell_type": "code",
   "execution_count": 18,
   "metadata": {},
   "outputs": [
    {
     "data": {
      "text/html": [
       "<pre style=\"white-space:pre;overflow-x:auto;line-height:normal;font-family:Menlo,'DejaVu Sans Mono',consolas,'Courier New',monospace\"><span style=\"color: #7fbfbf; text-decoration-color: #7fbfbf\">[14:25:31] </span><span style=\"color: #000080; text-decoration-color: #000080\">INFO    </span> No new gears ran. The total cost of the session so far is $<span style=\"color: #008080; text-decoration-color: #008080; font-weight: bold\">0.0077</span>.               <a href=\"file:///Users/shreyashankar/Documents/projects/gears/gears/session.py\" target=\"_blank\"><span style=\"color: #7f7f7f; text-decoration-color: #7f7f7f\">session.py</span></a><span style=\"color: #7f7f7f; text-decoration-color: #7f7f7f\">:</span><a href=\"file:///Users/shreyashankar/Documents/projects/gears/gears/session.py#195\" target=\"_blank\"><span style=\"color: #7f7f7f; text-decoration-color: #7f7f7f\">195</span></a>\n",
       "</pre>\n"
      ],
      "text/plain": [
       "\u001b[2;36m[14:25:31]\u001b[0m\u001b[2;36m \u001b[0m\u001b[34mINFO    \u001b[0m No new gears ran. The total cost of the session so far is $\u001b[1;36m0.0077\u001b[0m.               \u001b]8;id=783154;file:///Users/shreyashankar/Documents/projects/gears/gears/session.py\u001b\\\u001b[2msession.py\u001b[0m\u001b]8;;\u001b\\\u001b[2m:\u001b[0m\u001b]8;id=612702;file:///Users/shreyashankar/Documents/projects/gears/gears/session.py#195\u001b\\\u001b[2m195\u001b[0m\u001b]8;;\u001b\\\n"
      ]
     },
     "metadata": {},
     "output_type": "display_data"
    },
    {
     "data": {
      "text/html": [
       "<div>\n",
       "<style scoped>\n",
       "    .dataframe tbody tr th:only-of-type {\n",
       "        vertical-align: middle;\n",
       "    }\n",
       "\n",
       "    .dataframe tbody tr th {\n",
       "        vertical-align: top;\n",
       "    }\n",
       "\n",
       "    .dataframe thead th {\n",
       "        text-align: right;\n",
       "    }\n",
       "</style>\n",
       "<table border=\"1\" class=\"dataframe\">\n",
       "  <thead>\n",
       "    <tr style=\"text-align: right;\">\n",
       "      <th></th>\n",
       "      <th>0</th>\n",
       "      <th>1</th>\n",
       "      <th>2</th>\n",
       "      <th>3</th>\n",
       "      <th>4</th>\n",
       "    </tr>\n",
       "  </thead>\n",
       "  <tbody>\n",
       "    <tr>\n",
       "      <th>0</th>\n",
       "      <td>(id, d3ee24cc-d899-433e-96f0-4663d8fee658)</td>\n",
       "      <td>(city, Paris)</td>\n",
       "      <td>(interactions, [Ordering food at a restaurant,...</td>\n",
       "      <td>(questions, [What are some traditional French ...</td>\n",
       "      <td>(translated_questions, [Quels plats traditionn...</td>\n",
       "    </tr>\n",
       "    <tr>\n",
       "      <th>1</th>\n",
       "      <td>(id, d3ee24cc-d899-433e-96f0-4663d8fee658)</td>\n",
       "      <td>(city, Berlin)</td>\n",
       "      <td>(interactions, [Tour of the Berlin Wall, Visit...</td>\n",
       "      <td>(questions, [What is the history of the Berlin...</td>\n",
       "      <td>(translated_questions, [Was ist die Geschichte...</td>\n",
       "    </tr>\n",
       "    <tr>\n",
       "      <th>2</th>\n",
       "      <td>(id, d3ee24cc-d899-433e-96f0-4663d8fee658)</td>\n",
       "      <td>(city, London)</td>\n",
       "      <td>(interactions, [Touring famous landmarks such ...</td>\n",
       "      <td>(questions, [What is the history behind the la...</td>\n",
       "      <td>(translated_questions, [What is the history be...</td>\n",
       "    </tr>\n",
       "  </tbody>\n",
       "</table>\n",
       "</div>"
      ],
      "text/plain": [
       "                                            0               1  \\\n",
       "0  (id, d3ee24cc-d899-433e-96f0-4663d8fee658)   (city, Paris)   \n",
       "1  (id, d3ee24cc-d899-433e-96f0-4663d8fee658)  (city, Berlin)   \n",
       "2  (id, d3ee24cc-d899-433e-96f0-4663d8fee658)  (city, London)   \n",
       "\n",
       "                                                   2  \\\n",
       "0  (interactions, [Ordering food at a restaurant,...   \n",
       "1  (interactions, [Tour of the Berlin Wall, Visit...   \n",
       "2  (interactions, [Touring famous landmarks such ...   \n",
       "\n",
       "                                                   3  \\\n",
       "0  (questions, [What are some traditional French ...   \n",
       "1  (questions, [What is the history of the Berlin...   \n",
       "2  (questions, [What is the history behind the la...   \n",
       "\n",
       "                                                   4  \n",
       "0  (translated_questions, [Quels plats traditionn...  \n",
       "1  (translated_questions, [Was ist die Geschichte...  \n",
       "2  (translated_questions, [What is the history be...  "
      ]
     },
     "metadata": {},
     "output_type": "display_data"
    }
   ],
   "source": [
    "import pandas as pd\n",
    "\n",
    "res = await session.run()\n",
    "display(pd.DataFrame(res))"
   ]
  },
  {
   "cell_type": "code",
   "execution_count": 20,
   "metadata": {},
   "outputs": [
    {
     "name": "stderr",
     "output_type": "stream",
     "text": [
      "/var/folders/nq/ldkhrrws0xb9whw7b6rpzhc00000gn/T/ipykernel_23755/113781542.py:1: PydanticDeprecatedSince20: The `dict` method is deprecated; use `model_dump` instead. Deprecated in Pydantic V2.0 to be removed in V3.0. See Pydantic V2 Migration Guide at https://errors.pydantic.dev/2.0.3/migration/\n",
      "  pd.DataFrame([r.dict() for r in res])\n"
     ]
    },
    {
     "data": {
      "text/html": [
       "<div>\n",
       "<style scoped>\n",
       "    .dataframe tbody tr th:only-of-type {\n",
       "        vertical-align: middle;\n",
       "    }\n",
       "\n",
       "    .dataframe tbody tr th {\n",
       "        vertical-align: top;\n",
       "    }\n",
       "\n",
       "    .dataframe thead th {\n",
       "        text-align: right;\n",
       "    }\n",
       "</style>\n",
       "<table border=\"1\" class=\"dataframe\">\n",
       "  <thead>\n",
       "    <tr style=\"text-align: right;\">\n",
       "      <th></th>\n",
       "      <th>id</th>\n",
       "      <th>city</th>\n",
       "      <th>interactions</th>\n",
       "      <th>questions</th>\n",
       "      <th>translated_questions</th>\n",
       "    </tr>\n",
       "  </thead>\n",
       "  <tbody>\n",
       "    <tr>\n",
       "      <th>0</th>\n",
       "      <td>d3ee24cc-d899-433e-96f0-4663d8fee658</td>\n",
       "      <td>Paris</td>\n",
       "      <td>[Ordering food at a restaurant, Asking for dir...</td>\n",
       "      <td>[What are some traditional French dishes that ...</td>\n",
       "      <td>[Quels plats traditionnels français devrais-je...</td>\n",
       "    </tr>\n",
       "    <tr>\n",
       "      <th>1</th>\n",
       "      <td>d3ee24cc-d899-433e-96f0-4663d8fee658</td>\n",
       "      <td>Berlin</td>\n",
       "      <td>[Tour of the Berlin Wall, Visit to Brandenburg...</td>\n",
       "      <td>[What is the history of the Berlin Wall?, What...</td>\n",
       "      <td>[Was ist die Geschichte der Berliner Mauer?, W...</td>\n",
       "    </tr>\n",
       "    <tr>\n",
       "      <th>2</th>\n",
       "      <td>d3ee24cc-d899-433e-96f0-4663d8fee658</td>\n",
       "      <td>London</td>\n",
       "      <td>[Touring famous landmarks such as Big Ben, the...</td>\n",
       "      <td>[What is the history behind the landmark?, Wha...</td>\n",
       "      <td>[What is the history behind the landmark?, Wha...</td>\n",
       "    </tr>\n",
       "  </tbody>\n",
       "</table>\n",
       "</div>"
      ],
      "text/plain": [
       "                                     id    city  \\\n",
       "0  d3ee24cc-d899-433e-96f0-4663d8fee658   Paris   \n",
       "1  d3ee24cc-d899-433e-96f0-4663d8fee658  Berlin   \n",
       "2  d3ee24cc-d899-433e-96f0-4663d8fee658  London   \n",
       "\n",
       "                                        interactions  \\\n",
       "0  [Ordering food at a restaurant, Asking for dir...   \n",
       "1  [Tour of the Berlin Wall, Visit to Brandenburg...   \n",
       "2  [Touring famous landmarks such as Big Ben, the...   \n",
       "\n",
       "                                           questions  \\\n",
       "0  [What are some traditional French dishes that ...   \n",
       "1  [What is the history of the Berlin Wall?, What...   \n",
       "2  [What is the history behind the landmark?, Wha...   \n",
       "\n",
       "                                translated_questions  \n",
       "0  [Quels plats traditionnels français devrais-je...  \n",
       "1  [Was ist die Geschichte der Berliner Mauer?, W...  \n",
       "2  [What is the history behind the landmark?, Wha...  "
      ]
     },
     "execution_count": 20,
     "metadata": {},
     "output_type": "execute_result"
    }
   ],
   "source": [
    "pd.DataFrame([r.dict() for r in res])"
   ]
  },
  {
   "cell_type": "code",
   "execution_count": null,
   "metadata": {},
   "outputs": [],
   "source": []
  }
 ],
 "metadata": {
  "kernelspec": {
   "display_name": "gearstest",
   "language": "python",
   "name": "python3"
  },
  "language_info": {
   "codemirror_mode": {
    "name": "ipython",
    "version": 3
   },
   "file_extension": ".py",
   "mimetype": "text/x-python",
   "name": "python",
   "nbconvert_exporter": "python",
   "pygments_lexer": "ipython3",
   "version": "3.9.16"
  },
  "orig_nbformat": 4
 },
 "nbformat": 4,
 "nbformat_minor": 2
}
