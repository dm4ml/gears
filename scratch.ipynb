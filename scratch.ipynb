{
 "cells": [
  {
   "cell_type": "code",
   "execution_count": 1,
   "metadata": {},
   "outputs": [],
   "source": [
    "%load_ext autoreload\n",
    "%autoreload 2"
   ]
  },
  {
   "attachments": {},
   "cell_type": "markdown",
   "metadata": {},
   "source": [
    "## Open questions\n",
    "\n",
    "* How to show all the resulting contexts for all examples to the user?\n",
    "* How to show the intermediates to the user?\n",
    "* How to allow the user to compare two prompt versions?\n",
    "* How to allow the user to provide feedback on whether something is a good result or not?\n",
    "* How to manage the version blowup when automatically saving each .run() result as a version?"
   ]
  },
  {
   "cell_type": "code",
   "execution_count": 2,
   "metadata": {},
   "outputs": [],
   "source": [
    "%load_ext gears.extension \n",
    "%reload_ext gears.extension"
   ]
  },
  {
   "cell_type": "code",
   "execution_count": 3,
   "metadata": {},
   "outputs": [],
   "source": [
    "from gears import Example, Session, Gear, History\n",
    "from gears.llms import AzureOpenAIChat\n",
    "from gears.utils import extract_first_json\n",
    "from dotenv import load_dotenv\n",
    "import openai\n",
    "import os\n",
    "\n",
    "# Set Azure keys\n",
    "load_dotenv()\n",
    "openai.api_type = \"azure\"\n",
    "openai.api_base = os.getenv(\"OPENAI_API_BASE\")\n",
    "openai.api_key = os.getenv(\"OPENAI_AZURE_API_KEY\")\n",
    "openai.api_version = \"2023-07-01-preview\""
   ]
  },
  {
   "cell_type": "code",
   "execution_count": 4,
   "metadata": {},
   "outputs": [],
   "source": [
    "class Context(Example):\n",
    "    city: str"
   ]
  },
  {
   "cell_type": "code",
   "execution_count": 5,
   "metadata": {},
   "outputs": [],
   "source": [
    "session = Session()\n",
    "\n",
    "session.add_example(Context(city=\"Paris\"))"
   ]
  },
  {
   "cell_type": "code",
   "execution_count": 6,
   "metadata": {},
   "outputs": [
    {
     "data": {
      "text/plain": [
       "[Context(id='d3ee24cc-d899-433e-96f0-4663d8fee658', city='Paris')]"
      ]
     },
     "execution_count": 6,
     "metadata": {},
     "output_type": "execute_result"
    }
   ],
   "source": [
    "session.examples"
   ]
  },
  {
   "cell_type": "code",
   "execution_count": 7,
   "metadata": {},
   "outputs": [],
   "source": [
    "%%gear --root\n",
    "class Ideation(Gear):\n",
    "    def __init__(self):\n",
    "        super().__init__(AzureOpenAIChat(deployment_id=\"gpt-35-turbo\"))\n",
    "    \n",
    "    def template(self, context: Context):\n",
    "        return \"Suggest some types of interactions that one might encounter when visiting the city {{ context.city }} as a tourist. Return a JSON with key `interactions` and value equal to a list of strings.\"\n",
    "    \n",
    "    def transform(self, reply: dict, context: Context):\n",
    "        interactions = extract_first_json(reply[\"choices\"][0][\"message\"][\"content\"].strip())[\"interactions\"]\n",
    "        context.interactions = interactions\n",
    "        \n",
    "        return context\n",
    "    \n",
    "    def switch(self, context: Context):\n",
    "        return EnglishQuestion()"
   ]
  },
  {
   "cell_type": "code",
   "execution_count": 8,
   "metadata": {},
   "outputs": [],
   "source": [
    "%%gear\n",
    "class EnglishQuestion(Gear):\n",
    "    def __init__(self):\n",
    "        super().__init__(AzureOpenAIChat(deployment_id=\"gpt-35-turbo\"))\n",
    "    \n",
    "    def template(self, context: Context):\n",
    "        return \"For each interaction, write a question that a tourist might ask about the interaction. Return a JSON with key `questions` and value equal to a list of strings.\"\n",
    "    \n",
    "    def transform(self, reply: dict, context: Context):\n",
    "        questions = extract_first_json(reply[\"choices\"][0][\"message\"][\"content\"].strip())[\"questions\"]\n",
    "        context.questions = questions\n",
    "        \n",
    "        return context\n",
    "\n",
    "    def switch(self, context: Context):\n",
    "        return LanguageQuestion()"
   ]
  },
  {
   "cell_type": "code",
   "execution_count": 9,
   "metadata": {},
   "outputs": [],
   "source": [
    "%%gear\n",
    "class LanguageQuestion(Gear):\n",
    "    def __init__(self):\n",
    "        super().__init__(AzureOpenAIChat(deployment_id=\"gpt-35-turbo\"))\n",
    "    \n",
    "    def template(self, context: Context):\n",
    "        return \"Consider the most popular language in the city {{ context.city }}. Then translate each question into this language. If the most popular language of the city is English, then return the same English questions. Return a JSON with key `translations` and value equal to a list of strings.\"\n",
    "    \n",
    "    def transform(self, reply: dict, context: Context):\n",
    "        translated_questions = extract_first_json(reply[\"choices\"][0][\"message\"][\"content\"].strip())[\"translations\"]\n",
    "        context.translated_questions = translated_questions\n",
    "        \n",
    "        return context"
   ]
  },
  {
   "cell_type": "code",
   "execution_count": 11,
   "metadata": {},
   "outputs": [
    {
     "data": {
      "text/html": [
       "<pre style=\"white-space:pre;overflow-x:auto;line-height:normal;font-family:Menlo,'DejaVu Sans Mono',consolas,'Courier New',monospace\"><span style=\"color: #7fbfbf; text-decoration-color: #7fbfbf\">[00:27:12] </span><span style=\"color: #000080; text-decoration-color: #000080\">INFO    </span> Running LanguageQuestion on example <span style=\"color: #ffff00; text-decoration-color: #ffff00\">d3ee24cc-d899-433e-96f0-4663d8fee658</span>.        <a href=\"file:///Users/shreyashankar/Documents/projects/gears/gears/session.py\" target=\"_blank\"><span style=\"color: #7f7f7f; text-decoration-color: #7f7f7f\">session.py</span></a><span style=\"color: #7f7f7f; text-decoration-color: #7f7f7f\">:</span><a href=\"file:///Users/shreyashankar/Documents/projects/gears/gears/session.py#143\" target=\"_blank\"><span style=\"color: #7f7f7f; text-decoration-color: #7f7f7f\">143</span></a>\n",
       "</pre>\n"
      ],
      "text/plain": [
       "\u001b[2;36m[00:27:12]\u001b[0m\u001b[2;36m \u001b[0m\u001b[34mINFO    \u001b[0m Running LanguageQuestion on example \u001b[93md3ee24cc-d899-433e-96f0-4663d8fee658\u001b[0m.        \u001b]8;id=451672;file:///Users/shreyashankar/Documents/projects/gears/gears/session.py\u001b\\\u001b[2msession.py\u001b[0m\u001b]8;;\u001b\\\u001b[2m:\u001b[0m\u001b]8;id=783339;file:///Users/shreyashankar/Documents/projects/gears/gears/session.py#143\u001b\\\u001b[2m143\u001b[0m\u001b]8;;\u001b\\\n"
      ]
     },
     "metadata": {},
     "output_type": "display_data"
    },
    {
     "data": {
      "text/html": [
       "<pre style=\"white-space:pre;overflow-x:auto;line-height:normal;font-family:Menlo,'DejaVu Sans Mono',consolas,'Courier New',monospace\"><span style=\"color: #7fbfbf; text-decoration-color: #7fbfbf\">[00:27:48] </span><span style=\"color: #000080; text-decoration-color: #000080\">INFO    </span> <span style=\"color: #808000; text-decoration-color: #808000\">message</span>=<span style=\"color: #008000; text-decoration-color: #008000\">'OpenAI API response'</span>                                                        <a href=\"file:///Users/shreyashankar/miniforge3/envs/gearstest/lib/python3.9/site-packages/openai/util.py\" target=\"_blank\"><span style=\"color: #7f7f7f; text-decoration-color: #7f7f7f\">util.py</span></a><span style=\"color: #7f7f7f; text-decoration-color: #7f7f7f\">:</span><a href=\"file:///Users/shreyashankar/miniforge3/envs/gearstest/lib/python3.9/site-packages/openai/util.py#67\" target=\"_blank\"><span style=\"color: #7f7f7f; text-decoration-color: #7f7f7f\">67</span></a>\n",
       "<span style=\"color: #7fbfbf; text-decoration-color: #7fbfbf\">           </span>         <span style=\"color: #808000; text-decoration-color: #808000\">path</span>=<span style=\"color: #0000ff; text-decoration-color: #0000ff; text-decoration: underline\">https://shreyashankar.openai.azure.com//openai/deployments/gpt-35-turbo/chat/co</span> <span style=\"color: #7f7f7f; text-decoration-color: #7f7f7f\">          </span>\n",
       "<span style=\"color: #7fbfbf; text-decoration-color: #7fbfbf\">           </span>         <span style=\"color: #0000ff; text-decoration-color: #0000ff; text-decoration: underline\">mpletions?api-version=2023-07-01-preview</span> <span style=\"color: #808000; text-decoration-color: #808000\">processing_ms</span>=<span style=\"color: #008080; text-decoration-color: #008080; font-weight: bold\">34883.7059</span>                    <span style=\"color: #7f7f7f; text-decoration-color: #7f7f7f\">          </span>\n",
       "<span style=\"color: #7fbfbf; text-decoration-color: #7fbfbf\">           </span>         <span style=\"color: #808000; text-decoration-color: #808000\">request_id</span>=<span style=\"color: #ffff00; text-decoration-color: #ffff00\">1826efdc</span><span style=\"color: #ffff00; text-decoration-color: #ffff00\">-b91c-442e-8eeb-3ad43793e730</span> <span style=\"color: #808000; text-decoration-color: #808000\">response_code</span>=<span style=\"color: #008080; text-decoration-color: #008080; font-weight: bold\">200</span>                    <span style=\"color: #7f7f7f; text-decoration-color: #7f7f7f\">          </span>\n",
       "</pre>\n"
      ],
      "text/plain": [
       "\u001b[2;36m[00:27:48]\u001b[0m\u001b[2;36m \u001b[0m\u001b[34mINFO    \u001b[0m \u001b[33mmessage\u001b[0m=\u001b[32m'OpenAI API response'\u001b[0m                                                        \u001b]8;id=959362;file:///Users/shreyashankar/miniforge3/envs/gearstest/lib/python3.9/site-packages/openai/util.py\u001b\\\u001b[2mutil.py\u001b[0m\u001b]8;;\u001b\\\u001b[2m:\u001b[0m\u001b]8;id=856603;file:///Users/shreyashankar/miniforge3/envs/gearstest/lib/python3.9/site-packages/openai/util.py#67\u001b\\\u001b[2m67\u001b[0m\u001b]8;;\u001b\\\n",
       "\u001b[2;36m           \u001b[0m         \u001b[33mpath\u001b[0m=\u001b[4;94mhttps\u001b[0m\u001b[4;94m://shreyashankar.openai.azure.com//openai/deployments/gpt-35-turbo/chat/co\u001b[0m \u001b[2m          \u001b[0m\n",
       "\u001b[2;36m           \u001b[0m         \u001b[4;94mmpletions?api-\u001b[0m\u001b[4;94mversion\u001b[0m\u001b[4;94m=\u001b[0m\u001b[4;94m2023\u001b[0m\u001b[4;94m-07-01-preview\u001b[0m \u001b[33mprocessing_ms\u001b[0m=\u001b[1;36m34883\u001b[0m\u001b[1;36m.7059\u001b[0m                    \u001b[2m          \u001b[0m\n",
       "\u001b[2;36m           \u001b[0m         \u001b[33mrequest_id\u001b[0m=\u001b[93m1826efdc\u001b[0m\u001b[93m-b91c-442e-8eeb-3ad43793e730\u001b[0m \u001b[33mresponse_code\u001b[0m=\u001b[1;36m200\u001b[0m                    \u001b[2m          \u001b[0m\n"
      ]
     },
     "metadata": {},
     "output_type": "display_data"
    },
    {
     "data": {
      "text/html": [
       "<pre style=\"white-space:pre;overflow-x:auto;line-height:normal;font-family:Menlo,'DejaVu Sans Mono',consolas,'Courier New',monospace\"><span style=\"color: #7fbfbf; text-decoration-color: #7fbfbf\">           </span><span style=\"color: #000080; text-decoration-color: #000080\">INFO    </span> This run cost $<span style=\"color: #008080; text-decoration-color: #008080; font-weight: bold\">0.0026</span>. The total cost of the session so far is $<span style=\"color: #008080; text-decoration-color: #008080; font-weight: bold\">0.0034</span>.          <a href=\"file:///Users/shreyashankar/Documents/projects/gears/gears/session.py\" target=\"_blank\"><span style=\"color: #7f7f7f; text-decoration-color: #7f7f7f\">session.py</span></a><span style=\"color: #7f7f7f; text-decoration-color: #7f7f7f\">:</span><a href=\"file:///Users/shreyashankar/Documents/projects/gears/gears/session.py#203\" target=\"_blank\"><span style=\"color: #7f7f7f; text-decoration-color: #7f7f7f\">203</span></a>\n",
       "</pre>\n"
      ],
      "text/plain": [
       "\u001b[2;36m          \u001b[0m\u001b[2;36m \u001b[0m\u001b[34mINFO    \u001b[0m This run cost $\u001b[1;36m0.0026\u001b[0m. The total cost of the session so far is $\u001b[1;36m0.0034\u001b[0m.          \u001b]8;id=73576;file:///Users/shreyashankar/Documents/projects/gears/gears/session.py\u001b\\\u001b[2msession.py\u001b[0m\u001b]8;;\u001b\\\u001b[2m:\u001b[0m\u001b]8;id=810940;file:///Users/shreyashankar/Documents/projects/gears/gears/session.py#203\u001b\\\u001b[2m203\u001b[0m\u001b]8;;\u001b\\\n"
      ]
     },
     "metadata": {},
     "output_type": "display_data"
    },
    {
     "data": {
      "text/html": [
       "<pre style=\"white-space:pre;overflow-x:auto;line-height:normal;font-family:Menlo,'DejaVu Sans Mono',consolas,'Courier New',monospace\"><span style=\"color: #7fbfbf; text-decoration-color: #7fbfbf\">           </span><span style=\"color: #000080; text-decoration-color: #000080\">INFO    </span> Saving workflow <span style=\"color: #008080; text-decoration-color: #008080; font-weight: bold\">1</span> to session.                                                    <a href=\"file:///Users/shreyashankar/Documents/projects/gears/gears/session.py\" target=\"_blank\"><span style=\"color: #7f7f7f; text-decoration-color: #7f7f7f\">session.py</span></a><span style=\"color: #7f7f7f; text-decoration-color: #7f7f7f\">:</span><a href=\"file:///Users/shreyashankar/Documents/projects/gears/gears/session.py#228\" target=\"_blank\"><span style=\"color: #7f7f7f; text-decoration-color: #7f7f7f\">228</span></a>\n",
       "</pre>\n"
      ],
      "text/plain": [
       "\u001b[2;36m          \u001b[0m\u001b[2;36m \u001b[0m\u001b[34mINFO    \u001b[0m Saving workflow \u001b[1;36m1\u001b[0m to session.                                                    \u001b]8;id=618172;file:///Users/shreyashankar/Documents/projects/gears/gears/session.py\u001b\\\u001b[2msession.py\u001b[0m\u001b]8;;\u001b\\\u001b[2m:\u001b[0m\u001b]8;id=913444;file:///Users/shreyashankar/Documents/projects/gears/gears/session.py#228\u001b\\\u001b[2m228\u001b[0m\u001b]8;;\u001b\\\n"
      ]
     },
     "metadata": {},
     "output_type": "display_data"
    },
    {
     "data": {
      "text/plain": [
       "[Context(id='d3ee24cc-d899-433e-96f0-4663d8fee658', city='Paris', interactions=['Ordering food at a restaurant', 'Asking for directions', 'Shopping at a market or boutique', 'Visiting museums and art galleries', 'Taking a guided tour', 'Attending a cultural event or performance', 'Haggling at a flea market', 'Meeting locals and practicing language skills', 'Riding the metro or using public transportation', 'Exploring historic landmarks and architecture'], questions=['What are some traditional French dishes that I should try?', 'How do I get to the Eiffel Tower?', 'What are some popular souvenirs to bring back from Paris?', 'What are the hours of operation for the Louvre?', 'Can you recommend a good tour company?', 'What festivals are happening during my visit?', 'How do I negotiate prices at a flea market?', 'Where can I meet locals and practice my French?', 'Is it safe to use public transportation at night?', 'What are some must-see landmarks in Paris?'], translated_questions=['Quels plats traditionnels français devrais-je essayer?', 'Comment puis-je aller à la Tour Eiffel?', 'Quels sont les souvenirs populaires à rapporter de Paris?', \"Quels sont les horaires d'ouverture du Louvre?\", 'Pouvez-vous recommander une bonne compagnie de visite?', 'Quels festivals ont lieu pendant mon séjour?', 'Comment négocier les prix sur un marché aux puces?', 'Où puis-je rencontrer des habitants pour pratiquer mon français?', \"Est-il sûr d'utiliser les transports en commun la nuit?\", 'Quels sont les monuments incontournables à Paris?'])]"
      ]
     },
     "execution_count": 11,
     "metadata": {},
     "output_type": "execute_result"
    }
   ],
   "source": [
    "# Run session\n",
    "\n",
    "await session.run(version=True)"
   ]
  },
  {
   "cell_type": "code",
   "execution_count": null,
   "metadata": {},
   "outputs": [
    {
     "data": {
      "text/html": [
       "<pre style=\"white-space:pre;overflow-x:auto;line-height:normal;font-family:Menlo,'DejaVu Sans Mono',consolas,'Courier New',monospace\"><span style=\"color: #7fbfbf; text-decoration-color: #7fbfbf\">           </span><span style=\"color: #000080; text-decoration-color: #000080\">INFO    </span> No new gears ran. The total cost of the session so far is $<span style=\"color: #008080; text-decoration-color: #008080; font-weight: bold\">0.0020</span>.               <a href=\"file:///Users/shreyashankar/Documents/projects/gears/gears/session.py\" target=\"_blank\"><span style=\"color: #7f7f7f; text-decoration-color: #7f7f7f\">session.py</span></a><span style=\"color: #7f7f7f; text-decoration-color: #7f7f7f\">:</span><a href=\"file:///Users/shreyashankar/Documents/projects/gears/gears/session.py#207\" target=\"_blank\"><span style=\"color: #7f7f7f; text-decoration-color: #7f7f7f\">207</span></a>\n",
       "</pre>\n"
      ],
      "text/plain": [
       "\u001b[2;36m          \u001b[0m\u001b[2;36m \u001b[0m\u001b[34mINFO    \u001b[0m No new gears ran. The total cost of the session so far is $\u001b[1;36m0.0020\u001b[0m.               \u001b]8;id=473031;file:///Users/shreyashankar/Documents/projects/gears/gears/session.py\u001b\\\u001b[2msession.py\u001b[0m\u001b]8;;\u001b\\\u001b[2m:\u001b[0m\u001b]8;id=202854;file:///Users/shreyashankar/Documents/projects/gears/gears/session.py#207\u001b\\\u001b[2m207\u001b[0m\u001b]8;;\u001b\\\n"
      ]
     },
     "metadata": {},
     "output_type": "display_data"
    },
    {
     "data": {
      "text/plain": [
       "[Context(id='64ca6332-65d8-4c88-911e-1895baa66b36', city='Paris', interactions=['Ordering coffee in a café', 'Asking for directions to a famous landmark', 'Buying souvenirs from a street vendor', 'Chatting with locals in a park', 'Taking a guided tour of the Louvre', 'Attending a French cooking class', 'Shopping at a flea market', 'Having a picnic in front of the Eiffel Tower', 'Joining a group for a wine tasting', 'Watching a street performer'], questions=['How do I order coffee in a café?', 'Excuse me, could you tell me how to get to the Eiffel Tower?', 'What kind of souvenirs do you have?', \"Do you come to this park often? What's your favorite thing to do here?\", 'What are some must-see artworks at the Louvre?', 'What are some classic French dishes that I should learn to cook?', 'What kind of items can I find at the flea market?', 'Is it okay to have a picnic here? Are there any rules or regulations we should keep in mind?', 'What are some good local wines to try?', 'How long have you been doing this performance? What inspired you?'], translated_questions=['Comment commander du café dans un café ?', 'Excusez-moi, pouvez-vous me dire comment me rendre à la Tour Eiffel ?', 'Quels souvenirs avez-vous ?', 'Venez-vous souvent dans ce parc ? Quelle est votre activité préférée ici ?', \"Quelles sont les œuvres d'art incontournables du Louvre ?\", 'Quels sont les plats français classiques que je devrais apprendre à cuisiner ?', \"Quel genre d'articles puis-je trouver au marché aux puces ?\", \"Est-ce que c'est possible de prendre un pique-nique ici ? Y a-t-il des règles que nous devrions respecter ?\", 'Quels sont les bons vins locaux à essayer ?', \"Depuis combien de temps faites-vous cette performance ? Qu'est-ce qui vous a inspiré ?\"])]"
      ]
     },
     "execution_count": 11,
     "metadata": {},
     "output_type": "execute_result"
    }
   ],
   "source": [
    "# Run session again (should not ping OpenAI API)\n",
    "\n",
    "await session.run()"
   ]
  },
  {
   "cell_type": "code",
   "execution_count": 15,
   "metadata": {},
   "outputs": [],
   "source": [
    "# Add an example\n",
    "\n",
    "session.add_example(Context(city=\"London\"))"
   ]
  },
  {
   "cell_type": "code",
   "execution_count": null,
   "metadata": {},
   "outputs": [
    {
     "data": {
      "text/html": [
       "<pre style=\"white-space:pre;overflow-x:auto;line-height:normal;font-family:Menlo,'DejaVu Sans Mono',consolas,'Courier New',monospace\"><span style=\"color: #7fbfbf; text-decoration-color: #7fbfbf\">[00:24:13] </span><span style=\"color: #000080; text-decoration-color: #000080\">INFO    </span> No new gears ran. The total cost of the session so far is $<span style=\"color: #008080; text-decoration-color: #008080; font-weight: bold\">0.0044</span>.               <a href=\"file:///Users/shreyashankar/Documents/projects/gears/gears/session.py\" target=\"_blank\"><span style=\"color: #7f7f7f; text-decoration-color: #7f7f7f\">session.py</span></a><span style=\"color: #7f7f7f; text-decoration-color: #7f7f7f\">:</span><a href=\"file:///Users/shreyashankar/Documents/projects/gears/gears/session.py#207\" target=\"_blank\"><span style=\"color: #7f7f7f; text-decoration-color: #7f7f7f\">207</span></a>\n",
       "</pre>\n"
      ],
      "text/plain": [
       "\u001b[2;36m[00:24:13]\u001b[0m\u001b[2;36m \u001b[0m\u001b[34mINFO    \u001b[0m No new gears ran. The total cost of the session so far is $\u001b[1;36m0.0044\u001b[0m.               \u001b]8;id=868349;file:///Users/shreyashankar/Documents/projects/gears/gears/session.py\u001b\\\u001b[2msession.py\u001b[0m\u001b]8;;\u001b\\\u001b[2m:\u001b[0m\u001b]8;id=80003;file:///Users/shreyashankar/Documents/projects/gears/gears/session.py#207\u001b\\\u001b[2m207\u001b[0m\u001b]8;;\u001b\\\n"
      ]
     },
     "metadata": {},
     "output_type": "display_data"
    },
    {
     "name": "stdout",
     "output_type": "stream",
     "text": [
      "{'Ideation': 'class Ideation(Gear):\\n    def __init__(self):\\n        super().__init__(AzureOpenAIChat(deployment_id=\"gpt-35-turbo\"))\\n    \\n    def template(self, context: Context):\\n        return \"Suggest some types of interactions that one might encounter when visiting the city {{ context.city }} as a tourist. Return a JSON with key `interactions` and value equal to a list of strings.\"\\n    \\n    def transform(self, reply: dict, context: Context):\\n        interactions = extract_first_json(reply[\"choices\"][0][\"message\"][\"content\"].strip())[\"interactions\"]\\n        context.interactions = interactions\\n        \\n        return context\\n    \\n    def switch(self, context: Context):\\n        return EnglishQuestion()\\n', 'EnglishQuestion': 'class EnglishQuestion(Gear):\\n    def __init__(self):\\n        super().__init__(AzureOpenAIChat(deployment_id=\"gpt-35-turbo\"))\\n    \\n    def template(self, context: Context):\\n        return \"For each interaction, write a question that a tourist might ask about the interaction. Return a JSON with key `questions` and value equal to a list of strings.\"\\n    \\n    def transform(self, reply: dict, context: Context):\\n        questions = extract_first_json(reply[\"choices\"][0][\"message\"][\"content\"].strip())[\"questions\"]\\n        context.questions = questions\\n        \\n        return context\\n\\n    def switch(self, context: Context):\\n        return LanguageQuestion()\\n', 'LanguageQuestion': 'class LanguageQuestion(Gear):\\n    def __init__(self):\\n        super().__init__(AzureOpenAIChat(deployment_id=\"gpt-35-turbo\"))\\n    \\n    def template(self, context: Context):\\n        return \"Consider the most popular language in the city {{ context.city }}. Then translate each question into this language. If the most popular language of the city is English, then return the same English questions. Return a JSON with key `translations` and value equal to a list of strings.\"\\n    \\n    def transform(self, reply: dict, context: Context):\\n        translated_questions = extract_first_json(reply[\"choices\"][0][\"message\"][\"content\"].strip())[\"translations\"]\\n        context.translated_questions = translated_questions\\n        \\n        return context\\n'}\n"
     ]
    },
    {
     "data": {
      "text/html": [
       "<pre style=\"white-space:pre;overflow-x:auto;line-height:normal;font-family:Menlo,'DejaVu Sans Mono',consolas,'Courier New',monospace\"><span style=\"color: #7fbfbf; text-decoration-color: #7fbfbf\">           </span><span style=\"color: #000080; text-decoration-color: #000080\">INFO    </span> Saving workflow <span style=\"color: #008080; text-decoration-color: #008080; font-weight: bold\">2</span> to session.                                                    <a href=\"file:///Users/shreyashankar/Documents/projects/gears/gears/session.py\" target=\"_blank\"><span style=\"color: #7f7f7f; text-decoration-color: #7f7f7f\">session.py</span></a><span style=\"color: #7f7f7f; text-decoration-color: #7f7f7f\">:</span><a href=\"file:///Users/shreyashankar/Documents/projects/gears/gears/session.py#230\" target=\"_blank\"><span style=\"color: #7f7f7f; text-decoration-color: #7f7f7f\">230</span></a>\n",
       "</pre>\n"
      ],
      "text/plain": [
       "\u001b[2;36m          \u001b[0m\u001b[2;36m \u001b[0m\u001b[34mINFO    \u001b[0m Saving workflow \u001b[1;36m2\u001b[0m to session.                                                    \u001b]8;id=840347;file:///Users/shreyashankar/Documents/projects/gears/gears/session.py\u001b\\\u001b[2msession.py\u001b[0m\u001b]8;;\u001b\\\u001b[2m:\u001b[0m\u001b]8;id=465238;file:///Users/shreyashankar/Documents/projects/gears/gears/session.py#230\u001b\\\u001b[2m230\u001b[0m\u001b]8;;\u001b\\\n"
      ]
     },
     "metadata": {},
     "output_type": "display_data"
    },
    {
     "data": {
      "text/plain": [
       "[Context(id='64ca6332-65d8-4c88-911e-1895baa66b36', city='Paris', interactions=['Ordering coffee in a café', 'Asking for directions to a famous landmark', 'Buying souvenirs from a street vendor', 'Chatting with locals in a park', 'Taking a guided tour of the Louvre', 'Attending a French cooking class', 'Shopping at a flea market', 'Having a picnic in front of the Eiffel Tower', 'Joining a group for a wine tasting', 'Watching a street performer'], questions=['How do I order coffee in a café?', 'Excuse me, could you tell me how to get to the Eiffel Tower?', 'What kind of souvenirs do you have?', \"Do you come to this park often? What's your favorite thing to do here?\", 'What are some must-see artworks at the Louvre?', 'What are some classic French dishes that I should learn to cook?', 'What kind of items can I find at the flea market?', 'Is it okay to have a picnic here? Are there any rules or regulations we should keep in mind?', 'What are some good local wines to try?', 'How long have you been doing this performance? What inspired you?'], translated_questions=['Comment commander du café dans un café ?', 'Excusez-moi, pouvez-vous me dire comment me rendre à la Tour Eiffel ?', 'Quels souvenirs avez-vous ?', 'Venez-vous souvent dans ce parc ? Quelle est votre activité préférée ici ?', \"Quelles sont les œuvres d'art incontournables du Louvre ?\", 'Quels sont les plats français classiques que je devrais apprendre à cuisiner ?', \"Quel genre d'articles puis-je trouver au marché aux puces ?\", \"Est-ce que c'est possible de prendre un pique-nique ici ? Y a-t-il des règles que nous devrions respecter ?\", 'Quels sont les bons vins locaux à essayer ?', \"Depuis combien de temps faites-vous cette performance ? Qu'est-ce qui vous a inspiré ?\"]),\n",
       " Context(id='64ca6332-65d8-4c88-911e-1895baa66b36', city='London', interactions=['Visiting famous landmarks such as the Tower of London, Buckingham Palace, and Big Ben', 'Chatting with locals at a pub or restaurant', 'Taking a ride on the iconic London Eye', 'Attending a West End show in the theater district', 'Shopping at popular department stores like Harrods and Selfridges', 'Exploring museums like the British Museum and the Tate Modern', \"Walking through parks like Hyde Park and St. James's Park\", 'Using public transportation like the Tube and buses', 'Taking a riverboat tour on the Thames', 'Trying traditional British food like fish and chips or afternoon tea', \"Attending festivals and events like the Notting Hill Carnival and the New Year's Eve fireworks\"], questions=['What is the Tower of London and why is it famous?', 'Can you recommend a good pub or restaurant for local cuisine?', 'What are the best views from the London Eye and how long does it take?', 'What are some popular West End shows and where can I buy tickets?', 'What are some unique items I can buy at Harrods and Selfridges?', 'What are the most interesting exhibits at the British Museum and the Tate Modern?', \"What is the history of Hyde Park and St. James's Park?\", 'How do I use the Tube and buses, and where can I buy tickets?', 'What are the attractions on a riverboat tour on the Thames and how long does it take?', 'What are some traditional British foods and where can I try them?', 'What are the dates and locations of upcoming festivals and events in London?'], translated_questions=['What is the Tower of London and why is it famous?', 'Can you recommend a good pub or restaurant for local cuisine?', 'What are the best views from the London Eye and how long does it take?', 'What are some popular West End shows and where can I buy tickets?', 'What are some unique items I can buy at Harrods and Selfridges?', 'What are the most interesting exhibits at the British Museum and the Tate Modern?', \"What is the history of Hyde Park and St. James's Park?\", 'How do I use the Tube and buses, and where can I buy tickets?', 'What are the attractions on a riverboat tour on the Thames and how long does it take?', 'What are some traditional British foods and where can I try them?', 'What are the dates and locations of upcoming festivals and events in London?'])]"
      ]
     },
     "execution_count": 19,
     "metadata": {},
     "output_type": "execute_result"
    }
   ],
   "source": [
    "# Run session again (should ping OpenAI API only once, for the new example)\n",
    "\n",
    "await session.run(version=True)"
   ]
  },
  {
   "cell_type": "code",
   "execution_count": null,
   "metadata": {},
   "outputs": [
    {
     "data": {
      "text/plain": [
       "0.004371"
      ]
     },
     "execution_count": 16,
     "metadata": {},
     "output_type": "execute_result"
    }
   ],
   "source": [
    "session.cost"
   ]
  },
  {
   "cell_type": "code",
   "execution_count": 12,
   "metadata": {},
   "outputs": [
    {
     "data": {
      "text/plain": [
       "{'root': 'Ideation',\n",
       " 'code': {'Ideation': 'class Ideation(Gear):\\n    def __init__(self):\\n        super().__init__(AzureOpenAIChat(deployment_id=\"gpt-35-turbo\"))\\n    \\n    def template(self, context: Context):\\n        return \"Suggest some types of interactions that one might encounter when visiting the city {{ context.city }} as a tourist. Return a JSON with key `interactions` and value equal to a list of strings.\"\\n    \\n    def transform(self, reply: dict, context: Context):\\n        interactions = extract_first_json(reply[\"choices\"][0][\"message\"][\"content\"].strip())[\"interactions\"]\\n        context.interactions = interactions\\n        \\n        return context\\n    \\n    def switch(self, context: Context):\\n        return EnglishQuestion()\\n',\n",
       "  'EnglishQuestion': 'class EnglishQuestion(Gear):\\n    def __init__(self):\\n        super().__init__(AzureOpenAIChat(deployment_id=\"gpt-35-turbo\"))\\n    \\n    def template(self, context: Context):\\n        return \"For each interaction, write a question that a tourist might ask about the interaction. Return a JSON with key `questions` and value equal to a list of strings.\"\\n    \\n    def transform(self, reply: dict, context: Context):\\n        questions = extract_first_json(reply[\"choices\"][0][\"message\"][\"content\"].strip())[\"questions\"]\\n        context.questions = questions\\n        \\n        return context\\n\\n    def switch(self, context: Context):\\n        return LanguageQuestion()\\n',\n",
       "  'LanguageQuestion': 'class LanguageQuestion(Gear):\\n    def __init__(self):\\n        super().__init__(AzureOpenAIChat(deployment_id=\"gpt-35-turbo\"))\\n    \\n    def template(self, context: Context):\\n        return \"Consider the most popular language in the city {{ context.city }}. Then translate each question into this language. If the most popular language of the city is English, then return the same English questions. Return a JSON with key `translations` and value equal to a list of strings.\"\\n    \\n    def transform(self, reply: dict, context: Context):\\n        translated_questions = extract_first_json(reply[\"choices\"][0][\"message\"][\"content\"].strip())[\"translations\"]\\n        context.translated_questions = translated_questions\\n        \\n        return context\\n'},\n",
       " 'examples': [{'id': 'd3ee24cc-d899-433e-96f0-4663d8fee658', 'city': 'Paris'}],\n",
       " 'results': [{'id': 'd3ee24cc-d899-433e-96f0-4663d8fee658',\n",
       "   'city': 'Paris',\n",
       "   'interactions': ['Ordering food at a restaurant',\n",
       "    'Asking for directions',\n",
       "    'Shopping at a market or boutique',\n",
       "    'Visiting museums and art galleries',\n",
       "    'Taking a guided tour',\n",
       "    'Attending a cultural event or performance',\n",
       "    'Haggling at a flea market',\n",
       "    'Meeting locals and practicing language skills',\n",
       "    'Riding the metro or using public transportation',\n",
       "    'Exploring historic landmarks and architecture'],\n",
       "   'questions': ['What are some traditional French dishes that I should try?',\n",
       "    'How do I get to the Eiffel Tower?',\n",
       "    'What are some popular souvenirs to bring back from Paris?',\n",
       "    'What are the hours of operation for the Louvre?',\n",
       "    'Can you recommend a good tour company?',\n",
       "    'What festivals are happening during my visit?',\n",
       "    'How do I negotiate prices at a flea market?',\n",
       "    'Where can I meet locals and practice my French?',\n",
       "    'Is it safe to use public transportation at night?',\n",
       "    'What are some must-see landmarks in Paris?'],\n",
       "   'translated_questions': ['Quels plats traditionnels français devrais-je essayer?',\n",
       "    'Comment puis-je aller à la Tour Eiffel?',\n",
       "    'Quels sont les souvenirs populaires à rapporter de Paris?',\n",
       "    \"Quels sont les horaires d'ouverture du Louvre?\",\n",
       "    'Pouvez-vous recommander une bonne compagnie de visite?',\n",
       "    'Quels festivals ont lieu pendant mon séjour?',\n",
       "    'Comment négocier les prix sur un marché aux puces?',\n",
       "    'Où puis-je rencontrer des habitants pour pratiquer mon français?',\n",
       "    \"Est-il sûr d'utiliser les transports en commun la nuit?\",\n",
       "    'Quels sont les monuments incontournables à Paris?']}]}"
      ]
     },
     "execution_count": 12,
     "metadata": {},
     "output_type": "execute_result"
    }
   ],
   "source": [
    "session.versions[0]"
   ]
  },
  {
   "cell_type": "code",
   "execution_count": 13,
   "metadata": {},
   "outputs": [],
   "source": [
    "session.add_example(Context(city=\"Berlin\"))"
   ]
  },
  {
   "cell_type": "code",
   "execution_count": 18,
   "metadata": {},
   "outputs": [
    {
     "data": {
      "text/html": [
       "<pre style=\"white-space:pre;overflow-x:auto;line-height:normal;font-family:Menlo,'DejaVu Sans Mono',consolas,'Courier New',monospace\"><span style=\"color: #7fbfbf; text-decoration-color: #7fbfbf\">[14:25:31] </span><span style=\"color: #000080; text-decoration-color: #000080\">INFO    </span> No new gears ran. The total cost of the session so far is $<span style=\"color: #008080; text-decoration-color: #008080; font-weight: bold\">0.0077</span>.               <a href=\"file:///Users/shreyashankar/Documents/projects/gears/gears/session.py\" target=\"_blank\"><span style=\"color: #7f7f7f; text-decoration-color: #7f7f7f\">session.py</span></a><span style=\"color: #7f7f7f; text-decoration-color: #7f7f7f\">:</span><a href=\"file:///Users/shreyashankar/Documents/projects/gears/gears/session.py#195\" target=\"_blank\"><span style=\"color: #7f7f7f; text-decoration-color: #7f7f7f\">195</span></a>\n",
       "</pre>\n"
      ],
      "text/plain": [
       "\u001b[2;36m[14:25:31]\u001b[0m\u001b[2;36m \u001b[0m\u001b[34mINFO    \u001b[0m No new gears ran. The total cost of the session so far is $\u001b[1;36m0.0077\u001b[0m.               \u001b]8;id=783154;file:///Users/shreyashankar/Documents/projects/gears/gears/session.py\u001b\\\u001b[2msession.py\u001b[0m\u001b]8;;\u001b\\\u001b[2m:\u001b[0m\u001b]8;id=612702;file:///Users/shreyashankar/Documents/projects/gears/gears/session.py#195\u001b\\\u001b[2m195\u001b[0m\u001b]8;;\u001b\\\n"
      ]
     },
     "metadata": {},
     "output_type": "display_data"
    },
    {
     "data": {
      "text/html": [
       "<div>\n",
       "<style scoped>\n",
       "    .dataframe tbody tr th:only-of-type {\n",
       "        vertical-align: middle;\n",
       "    }\n",
       "\n",
       "    .dataframe tbody tr th {\n",
       "        vertical-align: top;\n",
       "    }\n",
       "\n",
       "    .dataframe thead th {\n",
       "        text-align: right;\n",
       "    }\n",
       "</style>\n",
       "<table border=\"1\" class=\"dataframe\">\n",
       "  <thead>\n",
       "    <tr style=\"text-align: right;\">\n",
       "      <th></th>\n",
       "      <th>0</th>\n",
       "      <th>1</th>\n",
       "      <th>2</th>\n",
       "      <th>3</th>\n",
       "      <th>4</th>\n",
       "    </tr>\n",
       "  </thead>\n",
       "  <tbody>\n",
       "    <tr>\n",
       "      <th>0</th>\n",
       "      <td>(id, d3ee24cc-d899-433e-96f0-4663d8fee658)</td>\n",
       "      <td>(city, Paris)</td>\n",
       "      <td>(interactions, [Ordering food at a restaurant,...</td>\n",
       "      <td>(questions, [What are some traditional French ...</td>\n",
       "      <td>(translated_questions, [Quels plats traditionn...</td>\n",
       "    </tr>\n",
       "    <tr>\n",
       "      <th>1</th>\n",
       "      <td>(id, d3ee24cc-d899-433e-96f0-4663d8fee658)</td>\n",
       "      <td>(city, Berlin)</td>\n",
       "      <td>(interactions, [Tour of the Berlin Wall, Visit...</td>\n",
       "      <td>(questions, [What is the history of the Berlin...</td>\n",
       "      <td>(translated_questions, [Was ist die Geschichte...</td>\n",
       "    </tr>\n",
       "    <tr>\n",
       "      <th>2</th>\n",
       "      <td>(id, d3ee24cc-d899-433e-96f0-4663d8fee658)</td>\n",
       "      <td>(city, London)</td>\n",
       "      <td>(interactions, [Touring famous landmarks such ...</td>\n",
       "      <td>(questions, [What is the history behind the la...</td>\n",
       "      <td>(translated_questions, [What is the history be...</td>\n",
       "    </tr>\n",
       "  </tbody>\n",
       "</table>\n",
       "</div>"
      ],
      "text/plain": [
       "                                            0               1  \\\n",
       "0  (id, d3ee24cc-d899-433e-96f0-4663d8fee658)   (city, Paris)   \n",
       "1  (id, d3ee24cc-d899-433e-96f0-4663d8fee658)  (city, Berlin)   \n",
       "2  (id, d3ee24cc-d899-433e-96f0-4663d8fee658)  (city, London)   \n",
       "\n",
       "                                                   2  \\\n",
       "0  (interactions, [Ordering food at a restaurant,...   \n",
       "1  (interactions, [Tour of the Berlin Wall, Visit...   \n",
       "2  (interactions, [Touring famous landmarks such ...   \n",
       "\n",
       "                                                   3  \\\n",
       "0  (questions, [What are some traditional French ...   \n",
       "1  (questions, [What is the history of the Berlin...   \n",
       "2  (questions, [What is the history behind the la...   \n",
       "\n",
       "                                                   4  \n",
       "0  (translated_questions, [Quels plats traditionn...  \n",
       "1  (translated_questions, [Was ist die Geschichte...  \n",
       "2  (translated_questions, [What is the history be...  "
      ]
     },
     "metadata": {},
     "output_type": "display_data"
    }
   ],
   "source": [
    "import pandas as pd\n",
    "\n",
    "res = await session.run()\n",
    "display(pd.DataFrame(res))"
   ]
  },
  {
   "cell_type": "code",
   "execution_count": 20,
   "metadata": {},
   "outputs": [
    {
     "name": "stderr",
     "output_type": "stream",
     "text": [
      "/var/folders/nq/ldkhrrws0xb9whw7b6rpzhc00000gn/T/ipykernel_23755/113781542.py:1: PydanticDeprecatedSince20: The `dict` method is deprecated; use `model_dump` instead. Deprecated in Pydantic V2.0 to be removed in V3.0. See Pydantic V2 Migration Guide at https://errors.pydantic.dev/2.0.3/migration/\n",
      "  pd.DataFrame([r.dict() for r in res])\n"
     ]
    },
    {
     "data": {
      "text/html": [
       "<div>\n",
       "<style scoped>\n",
       "    .dataframe tbody tr th:only-of-type {\n",
       "        vertical-align: middle;\n",
       "    }\n",
       "\n",
       "    .dataframe tbody tr th {\n",
       "        vertical-align: top;\n",
       "    }\n",
       "\n",
       "    .dataframe thead th {\n",
       "        text-align: right;\n",
       "    }\n",
       "</style>\n",
       "<table border=\"1\" class=\"dataframe\">\n",
       "  <thead>\n",
       "    <tr style=\"text-align: right;\">\n",
       "      <th></th>\n",
       "      <th>id</th>\n",
       "      <th>city</th>\n",
       "      <th>interactions</th>\n",
       "      <th>questions</th>\n",
       "      <th>translated_questions</th>\n",
       "    </tr>\n",
       "  </thead>\n",
       "  <tbody>\n",
       "    <tr>\n",
       "      <th>0</th>\n",
       "      <td>d3ee24cc-d899-433e-96f0-4663d8fee658</td>\n",
       "      <td>Paris</td>\n",
       "      <td>[Ordering food at a restaurant, Asking for dir...</td>\n",
       "      <td>[What are some traditional French dishes that ...</td>\n",
       "      <td>[Quels plats traditionnels français devrais-je...</td>\n",
       "    </tr>\n",
       "    <tr>\n",
       "      <th>1</th>\n",
       "      <td>d3ee24cc-d899-433e-96f0-4663d8fee658</td>\n",
       "      <td>Berlin</td>\n",
       "      <td>[Tour of the Berlin Wall, Visit to Brandenburg...</td>\n",
       "      <td>[What is the history of the Berlin Wall?, What...</td>\n",
       "      <td>[Was ist die Geschichte der Berliner Mauer?, W...</td>\n",
       "    </tr>\n",
       "    <tr>\n",
       "      <th>2</th>\n",
       "      <td>d3ee24cc-d899-433e-96f0-4663d8fee658</td>\n",
       "      <td>London</td>\n",
       "      <td>[Touring famous landmarks such as Big Ben, the...</td>\n",
       "      <td>[What is the history behind the landmark?, Wha...</td>\n",
       "      <td>[What is the history behind the landmark?, Wha...</td>\n",
       "    </tr>\n",
       "  </tbody>\n",
       "</table>\n",
       "</div>"
      ],
      "text/plain": [
       "                                     id    city  \\\n",
       "0  d3ee24cc-d899-433e-96f0-4663d8fee658   Paris   \n",
       "1  d3ee24cc-d899-433e-96f0-4663d8fee658  Berlin   \n",
       "2  d3ee24cc-d899-433e-96f0-4663d8fee658  London   \n",
       "\n",
       "                                        interactions  \\\n",
       "0  [Ordering food at a restaurant, Asking for dir...   \n",
       "1  [Tour of the Berlin Wall, Visit to Brandenburg...   \n",
       "2  [Touring famous landmarks such as Big Ben, the...   \n",
       "\n",
       "                                           questions  \\\n",
       "0  [What are some traditional French dishes that ...   \n",
       "1  [What is the history of the Berlin Wall?, What...   \n",
       "2  [What is the history behind the landmark?, Wha...   \n",
       "\n",
       "                                translated_questions  \n",
       "0  [Quels plats traditionnels français devrais-je...  \n",
       "1  [Was ist die Geschichte der Berliner Mauer?, W...  \n",
       "2  [What is the history behind the landmark?, Wha...  "
      ]
     },
     "execution_count": 20,
     "metadata": {},
     "output_type": "execute_result"
    }
   ],
   "source": [
    "pd.DataFrame([r.dict() for r in res])"
   ]
  },
  {
   "cell_type": "code",
   "execution_count": null,
   "metadata": {},
   "outputs": [],
   "source": []
  }
 ],
 "metadata": {
  "kernelspec": {
   "display_name": "gearstest",
   "language": "python",
   "name": "python3"
  },
  "language_info": {
   "codemirror_mode": {
    "name": "ipython",
    "version": 3
   },
   "file_extension": ".py",
   "mimetype": "text/x-python",
   "name": "python",
   "nbconvert_exporter": "python",
   "pygments_lexer": "ipython3",
   "version": "3.9.16"
  },
  "orig_nbformat": 4
 },
 "nbformat": 4,
 "nbformat_minor": 2
}
